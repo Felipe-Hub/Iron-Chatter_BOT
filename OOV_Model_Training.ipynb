{
 "cells": [
  {
   "cell_type": "code",
   "execution_count": 2,
   "metadata": {},
   "outputs": [
    {
     "name": "stderr",
     "output_type": "stream",
     "text": [
      "Using TensorFlow backend.\n"
     ]
    }
   ],
   "source": [
    "from keras.models import Sequential\n",
    "from keras.preprocessing.text import Tokenizer\n",
    "from keras.layers import Dense, LSTM, Bidirectional, Embedding, Dropout\n",
    "\n",
    "import json\n",
    "import keras\n",
    "import oov_prep as oov"
   ]
  },
  {
   "cell_type": "code",
   "execution_count": 3,
   "metadata": {},
   "outputs": [],
   "source": [
    "# Movie conversation cleaned and POS tagged data\n",
    "with open('clean_tagged_data.json', 'r') as outfile:\n",
    "    data = json.load(outfile)\n",
    "\n",
    "sent, tags = zip(*data['tags'])\n",
    "\n",
    "print('Sentences/Tags data length:', len(sent), len(tags))\n",
    "print(sent[:3])\n",
    "print(tags[:3])"
   ]
  },
  {
   "cell_type": "code",
   "execution_count": null,
   "metadata": {},
   "outputs": [],
   "source": [
    "# Tokenizing and getting n-gram sequences for sentences\n",
    "\n",
    "tk = Tokenizer(oov_token='<UNK>')\n",
    "tk.fit_on_texts(sent)\n",
    "enc_sentences = tk.texts_to_sequences(sent)\n",
    "\n",
    "X_enc_sent, y_enc_sent, X_rev_enc_sent, y_rev_enc_sent = oov.n_grams(enc_sentences)\n",
    "\n",
    "vocab_size = len(tk.word_index)\n",
    "print('Vocabulary Size: %d' % vocab_size)"
   ]
  },
  {
   "cell_type": "code",
   "execution_count": null,
   "metadata": {},
   "outputs": [],
   "source": [
    "# Tokenizing and getting n-gram sequences for tags\n",
    "\n",
    "tk = Tokenizer(oov_token='<UNK>')\n",
    "tk.fit_on_texts(tags)\n",
    "enc_tagged = tk.texts_to_sequences(tags)\n",
    "\n",
    "X_enc_tags, y_enc_tags, X_rev_enc_tags, y_rev_enc_tags = oov.n_grams(enc_tagged)\n",
    "\n",
    "tag_vocab_size = len(tk.word_index)\n",
    "print('Vocabulary Size: %d' % tag_vocab_size)"
   ]
  },
  {
   "cell_type": "code",
   "execution_count": null,
   "metadata": {},
   "outputs": [],
   "source": [
    "# Define senteces forward sequence bidirectional model\n",
    "\n",
    "model_sent = Sequential()\n",
    "model_sent.add(Embedding(vocab_size+1, 32, mask_zero=True, input_length=max_length))\n",
    "model_sent.add(Bidirectional(LSTM(64)))\n",
    "model_sent.add(Dropout(0.5))\n",
    "model_sent.add(Dense(vocab_size+1, activation='softmax'))\n",
    "print(model_sent.summary())"
   ]
  },
  {
   "cell_type": "code",
   "execution_count": null,
   "metadata": {},
   "outputs": [],
   "source": [
    "# Define tags forward sequence bidirectional model\n",
    "\n",
    "model_tags = Sequential()\n",
    "model_tags.add(Embedding(tag_vocab_size+1, 32, mask_zero=True, input_length=max_length))\n",
    "model_tags.add(Bidirectional(LSTM(64)))\n",
    "model_tags.add(Dropout(0.5))\n",
    "model_tags.add(Dense(tag_vocab_size+1, activation='softmax'))\n",
    "print(model_tags.summary())"
   ]
  },
  {
   "cell_type": "code",
   "execution_count": null,
   "metadata": {},
   "outputs": [],
   "source": [
    "# define reverse model for sentences\n",
    "\n",
    "rev_model_sent = Sequential()\n",
    "rev_model_sent.add(Embedding(vocab_size+1, 32, mask_zero=True, input_length=max_length))\n",
    "rev_model_sent.add(Bidirectional(LSTM(64)))\n",
    "rev_model_sent.add(Dropout(0.5))\n",
    "rev_model_sent.add(Dense(vocab_size+1, activation='softmax'))\n",
    "print(rev_model_sent.summary())"
   ]
  },
  {
   "cell_type": "code",
   "execution_count": null,
   "metadata": {},
   "outputs": [],
   "source": [
    "# define reverse model for tags\n",
    "\n",
    "rev_model_tags = Sequential()\n",
    "rev_model_tags.add(Embedding(tag_vocab_size+1, 32, mask_zero=True, input_length=max_length))\n",
    "rev_model_tags.add(Bidirectional(LSTM(64)))\n",
    "rev_model_tags.add(Dropout(0.5))\n",
    "rev_model_tags.add(Dense(tag_vocab_size+1, activation='softmax'))\n",
    "print(rev_model_tags.summary())"
   ]
  },
  {
   "cell_type": "code",
   "execution_count": null,
   "metadata": {},
   "outputs": [],
   "source": [
    "# compile sentence forward sequence network\n",
    "# loss is set to sparse_cat_cross because of multiple classes and no one-hot encoding\n",
    "\n",
    "model_sent.compile(loss='sparse_categorical_crossentropy', optimizer=keras.optimizers.Adam(0.001), metrics=['acc'])\n",
    "\n",
    "model_sent.fit(X_enc_sent, y_enc_sent, batch_size=128, epochs=20, verbose=1, shuffle=True, validation_split=0.2)\n",
    "\n",
    "model_sent.save('model_oov_sent.h5')"
   ]
  },
  {
   "cell_type": "code",
   "execution_count": null,
   "metadata": {},
   "outputs": [],
   "source": [
    "# compile reverse sequence network\n",
    "\n",
    "rev_model_sent.compile(loss='sparse_categorical_crossentropy', optimizer=keras.optimizers.Adam(0.002),\n",
    "                       metrics=['accuracy'])\n",
    "\n",
    "rev_model_sent.fit(X_rev_enc_sent, y_rev_enc_sent, batch_size=128, epochs=200, verbose=1, shuffle=True,\n",
    "                   validation_split=0.2)\n",
    "\n",
    "rev_model_sent.save('rev_model_oov_sent.h5')"
   ]
  },
  {
   "cell_type": "code",
   "execution_count": null,
   "metadata": {},
   "outputs": [],
   "source": [
    "# compile tags forward sequence network\n",
    "\n",
    "model_tags.compile(loss='sparse_categorical_crossentropy', optimizer=keras.optimizers.Adam(0.001), metrics=['acc'])\n",
    "\n",
    "model_tags.fit(X_enc_tags, y_enc_tags, batch_size=128, epochs=20, verbose=1, shuffle=True, validation_split=0.2)\n",
    "\n",
    "model_tags.save('model_oov_tags.h5')"
   ]
  },
  {
   "cell_type": "code",
   "execution_count": null,
   "metadata": {},
   "outputs": [],
   "source": [
    "# compile reverse sequence network\n",
    "\n",
    "rev_model_tags.compile(loss='sparse_categorical_crossentropy', optimizer=keras.optimizers.Adam(0.002),\n",
    "                       metrics=['accuracy'])\n",
    "\n",
    "rev_model_tags.fit(X_rev_enc_tags, y_rev_enc_tags, batch_size=128, epochs=200, verbose=1, shuffle=True,\n",
    "                   validation_split=0.2)\n",
    "\n",
    "rev_model_tags.save('rev_model_oov_tags.h5')"
   ]
  }
 ],
 "metadata": {
  "kernelspec": {
   "display_name": "Python 3",
   "language": "python",
   "name": "python3"
  },
  "language_info": {
   "codemirror_mode": {
    "name": "ipython",
    "version": 3
   },
   "file_extension": ".py",
   "mimetype": "text/x-python",
   "name": "python",
   "nbconvert_exporter": "python",
   "pygments_lexer": "ipython3",
   "version": "3.7.4"
  }
 },
 "nbformat": 4,
 "nbformat_minor": 4
}
