{
 "cells": [
  {
   "cell_type": "code",
   "execution_count": 1,
   "metadata": {},
   "outputs": [],
   "source": [
    "\n",
    "import numpy as np\n",
    "import tensorflow as tf\n",
    "import pickle\n",
    "from tensorflow.keras import layers , activations , models , preprocessing , utils\n",
    "\n",
    "from gensim.models import Word2Vec\n",
    "\n",
    "\n",
    "import re\n",
    "import os\n",
    "import yaml"
   ]
  },
  {
   "cell_type": "code",
   "execution_count": 2,
   "metadata": {},
   "outputs": [],
   "source": [
    "# Importing casual conversation dataset\n",
    "\n",
    "dir_path = 'Conversation'\n",
    "files_list = os.listdir(dir_path + os.sep)\n",
    "\n",
    "questions = list()\n",
    "answers = list()\n",
    "for filepath in files_list:\n",
    "    stream = open( dir_path + os.sep + filepath , 'rb')\n",
    "    docs = yaml.safe_load(stream)\n",
    "    conversations = docs['conversations']\n",
    "    for con in conversations:\n",
    "        if len( con ) > 2 :\n",
    "            questions.append(con[0])\n",
    "            replies = con[ 1 : ]\n",
    "            ans = ''\n",
    "            for rep in replies:\n",
    "                ans += ' ' + rep\n",
    "            answers.append( ans )\n",
    "        elif len( con )> 1:\n",
    "            questions.append(con[0])\n",
    "            answers.append(con[1])\n",
    "            "
   ]
  },
  {
   "cell_type": "code",
   "execution_count": 3,
   "metadata": {},
   "outputs": [
    {
     "name": "stdout",
     "output_type": "stream",
     "text": [
      "VOCAB SIZE : 1894\n"
     ]
    }
   ],
   "source": [
    "answers_with_tags = list()\n",
    "for i in range( len( answers ) ):\n",
    "    if type( answers[i] ) == str:\n",
    "        answers_with_tags.append( answers[i] )\n",
    "    else:\n",
    "        questions.pop( i )\n",
    "\n",
    "answers = list()\n",
    "for i in range( len( answers_with_tags ) ) :\n",
    "    answers.append( '<START> ' + answers_with_tags[i] + ' <END>' )\n",
    "\n",
    "tokenizer = preprocessing.text.Tokenizer()\n",
    "tokenizer.fit_on_texts( questions + answers )\n",
    "VOCAB_SIZE = len( tokenizer.word_index )+1\n",
    "print( 'VOCAB SIZE : {}'.format( VOCAB_SIZE ))\n"
   ]
  },
  {
   "cell_type": "code",
   "execution_count": 33,
   "metadata": {},
   "outputs": [
    {
     "name": "stdout",
     "output_type": "stream",
     "text": [
      "(564, 22) 22\n",
      "(564, 74) 74\n",
      "(564, 74, 1894)\n"
     ]
    }
   ],
   "source": [
    "vocab = []\n",
    "for word in tokenizer.word_index:\n",
    "    vocab.append( word )\n",
    "\n",
    "def tokenize( sentences ):\n",
    "    tokens_list = []\n",
    "    vocabulary = []\n",
    "    for sentence in sentences:\n",
    "        sentence = sentence.lower()\n",
    "        sentence = re.sub( '[^a-zA-Z]', ' ', sentence )\n",
    "        tokens = sentence.split()\n",
    "        vocabulary += tokens\n",
    "        tokens_list.append( tokens )\n",
    "    return tokens_list , vocabulary\n",
    "\n",
    "p = tokenize( questions + answers )\n",
    "model = Word2Vec( p[ 0 ] ) \n",
    "\n",
    "embedding_matrix = np.zeros( ( VOCAB_SIZE , 100 ) )\n",
    "for i in range( len( tokenizer.word_index ) ):\n",
    "    if i in model.wv.vocab.keys():\n",
    "        embedding_matrix[ i ] = model[ vocab[i] ]\n",
    "\n",
    "# encoder_input_data\n",
    "tokenized_questions = tokenizer.texts_to_sequences( questions )\n",
    "maxlen_questions = max( [ len(x) for x in tokenized_questions ] )\n",
    "padded_questions = preprocessing.sequence.pad_sequences( tokenized_questions , maxlen=maxlen_questions , padding='post' )\n",
    "encoder_input_data = np.array( padded_questions )\n",
    "print( encoder_input_data.shape , maxlen_questions )\n",
    "\n",
    "# decoder_input_data\n",
    "tokenized_answers = tokenizer.texts_to_sequences( answers )\n",
    "maxlen_answers = max( [ len(x) for x in tokenized_answers ] )\n",
    "padded_answers = preprocessing.sequence.pad_sequences( tokenized_answers , maxlen=maxlen_answers , padding='post' )\n",
    "decoder_input_data = np.array( padded_answers )\n",
    "print( decoder_input_data.shape , maxlen_answers )\n",
    "\n",
    "# decoder_output_data\n",
    "tokenized_answers = tokenizer.texts_to_sequences( answers )\n",
    "for i in range(len(tokenized_answers)) :\n",
    "    tokenized_answers[i] = tokenized_answers[i][1:]\n",
    "padded_answers = preprocessing.sequence.pad_sequences( tokenized_answers , maxlen=maxlen_answers , padding='post' )\n",
    "onehot_answers = utils.to_categorical( padded_answers , VOCAB_SIZE )\n",
    "decoder_output_data = np.array( onehot_answers )\n",
    "print( decoder_output_data.shape )\n"
   ]
  },
  {
   "cell_type": "code",
   "execution_count": 34,
   "metadata": {
    "scrolled": true
   },
   "outputs": [
    {
     "name": "stdout",
     "output_type": "stream",
     "text": [
      "Model: \"model_7\"\n",
      "__________________________________________________________________________________________________\n",
      "Layer (type)                    Output Shape         Param #     Connected to                     \n",
      "==================================================================================================\n",
      "input_9 (InputLayer)            [(None, None)]       0                                            \n",
      "__________________________________________________________________________________________________\n",
      "input_10 (InputLayer)           [(None, None)]       0                                            \n",
      "__________________________________________________________________________________________________\n",
      "embedding_2 (Embedding)         (None, None, 256)    484864      input_9[0][0]                    \n",
      "__________________________________________________________________________________________________\n",
      "embedding_3 (Embedding)         (None, None, 256)    484864      input_10[0][0]                   \n",
      "__________________________________________________________________________________________________\n",
      "lstm_2 (LSTM)                   [(None, 256), (None, 525312      embedding_2[0][0]                \n",
      "__________________________________________________________________________________________________\n",
      "lstm_3 (LSTM)                   [(None, None, 256),  525312      embedding_3[0][0]                \n",
      "                                                                 lstm_2[0][1]                     \n",
      "                                                                 lstm_2[0][2]                     \n",
      "__________________________________________________________________________________________________\n",
      "dense_1 (Dense)                 (None, None, 1894)   486758      lstm_3[0][0]                     \n",
      "==================================================================================================\n",
      "Total params: 2,507,110\n",
      "Trainable params: 2,507,110\n",
      "Non-trainable params: 0\n",
      "__________________________________________________________________________________________________\n"
     ]
    }
   ],
   "source": [
    "encoder_inputs = tf.keras.layers.Input(shape=( None , ))\n",
    "encoder_embedding = tf.keras.layers.Embedding( VOCAB_SIZE, 256 , mask_zero=True ) (encoder_inputs)\n",
    "encoder_outputs , state_h , state_c = tf.keras.layers.LSTM( 256 , return_state=True )( encoder_embedding )\n",
    "encoder_states = [ state_h , state_c ]\n",
    "\n",
    "decoder_inputs = tf.keras.layers.Input(shape=( None ,  ))\n",
    "decoder_embedding = tf.keras.layers.Embedding( VOCAB_SIZE, 256 , mask_zero=True) (decoder_inputs)\n",
    "decoder_lstm = tf.keras.layers.LSTM( 256 , return_state=True , return_sequences=True )\n",
    "decoder_outputs , _ , _ = decoder_lstm ( decoder_embedding , initial_state=encoder_states )\n",
    "decoder_dense = tf.keras.layers.Dense( VOCAB_SIZE , activation=tf.keras.activations.softmax ) \n",
    "output = decoder_dense ( decoder_outputs )\n",
    "\n",
    "model = tf.keras.models.Model([encoder_inputs, decoder_inputs], output )\n",
    "model.compile(optimizer=tf.keras.optimizers.RMSprop(), loss='categorical_crossentropy')\n",
    "\n",
    "model.summary()\n"
   ]
  },
  {
   "cell_type": "code",
   "execution_count": 35,
   "metadata": {},
   "outputs": [
    {
     "name": "stdout",
     "output_type": "stream",
     "text": [
      "Train on 564 samples\n",
      "564/564 [==============================] - 92s 163ms/sample - loss: 1.2867\n"
     ]
    }
   ],
   "source": [
    "model.fit([encoder_input_data , decoder_input_data], decoder_output_data, batch_size=50, epochs=5 ) \n",
    "model.save( 'model.h5' ) "
   ]
  },
  {
   "cell_type": "code",
   "execution_count": 36,
   "metadata": {},
   "outputs": [],
   "source": [
    "def make_inference_models():\n",
    "    \n",
    "    encoder_model = tf.keras.models.Model(encoder_inputs, encoder_states)\n",
    "    \n",
    "    decoder_state_input_h = tf.keras.layers.Input(shape=( 256 ,))\n",
    "    decoder_state_input_c = tf.keras.layers.Input(shape=( 256 ,))\n",
    "    \n",
    "    decoder_states_inputs = [decoder_state_input_h, decoder_state_input_c]\n",
    "    \n",
    "    decoder_outputs, state_h, state_c = decoder_lstm(\n",
    "        decoder_embedding , initial_state=decoder_states_inputs)\n",
    "    decoder_states = [state_h, state_c]\n",
    "    decoder_outputs = decoder_dense(decoder_outputs)\n",
    "    decoder_model = tf.keras.models.Model(\n",
    "        [decoder_inputs] + decoder_states_inputs,\n",
    "        [decoder_outputs] + decoder_states)\n",
    "    \n",
    "    return encoder_model , decoder_model\n"
   ]
  },
  {
   "cell_type": "code",
   "execution_count": 37,
   "metadata": {},
   "outputs": [],
   "source": [
    "def str_to_tokens( sentence : str ):\n",
    "    words = sentence.lower().split()\n",
    "    tokens_list = list()\n",
    "    for word in words:\n",
    "        word = word.strip(\"',.:;?$\")\n",
    "        if word in tokenizer.word_index:\n",
    "            tokens_list.append( tokenizer.word_index[ word ] )\n",
    "    return preprocessing.sequence.pad_sequences( [tokens_list] , maxlen=maxlen_questions , padding='post')"
   ]
  },
  {
   "cell_type": "code",
   "execution_count": 38,
   "metadata": {
    "scrolled": true
   },
   "outputs": [
    {
     "name": "stdout",
     "output_type": "stream",
     "text": [
      "Enter question : hi\n",
      "i !\n",
      "end !\n",
      " i end\n",
      "Enter question : can you answer a question\n",
      "end !\n",
      " end\n",
      "Enter question : bye\n",
      "Hope to see you soon!\n"
     ]
    }
   ],
   "source": [
    "\n",
    "enc_model , dec_model = make_inference_models()\n",
    "\n",
    "for _ in range(10):\n",
    "    inp = input( 'Enter question : ' )\n",
    "    \n",
    "    if inp.lower() == 'bye' or inp.lower() == 'end':\n",
    "        print('Hope to see you soon!')\n",
    "        break\n",
    "        \n",
    "    states_values = enc_model.predict( str_to_tokens( inp ) )\n",
    "    empty_target_seq = np.zeros( ( 1 , 1 ) )\n",
    "    empty_target_seq[0, 0] = tokenizer.word_index['start']\n",
    "    stop_condition = False\n",
    "    decoded_translation = ''\n",
    "   \n",
    "    while not stop_condition :\n",
    "        dec_outputs , h , c = dec_model.predict([ empty_target_seq ] + states_values )\n",
    "        sampled_word_index = np.argmax( dec_outputs[0, -1, :] )\n",
    "        sampled_word = None\n",
    "        for word , index in tokenizer.word_index.items() :\n",
    "            #print(word,index)\n",
    "            if sampled_word_index == index :\n",
    "                # print(word, '!')\n",
    "                decoded_translation += ' {}'.format( word )\n",
    "                sampled_word = word\n",
    "        \n",
    "        if sampled_word == 'end' or len(decoded_translation.split()) > maxlen_answers:\n",
    "            stop_condition = True\n",
    "            \n",
    "        empty_target_seq = np.zeros( ( 1 , 1 ) )  \n",
    "        empty_target_seq[ 0 , 0 ] = sampled_word_index\n",
    "        states_values = [ h , c ] \n",
    "    \n",
    "    print( decoded_translation )\n"
   ]
  },
  {
   "cell_type": "code",
   "execution_count": 26,
   "metadata": {},
   "outputs": [],
   "source": [
    "a = str_to_tokens('are you alive yet')"
   ]
  },
  {
   "cell_type": "code",
   "execution_count": 27,
   "metadata": {},
   "outputs": [
    {
     "name": "stdout",
     "output_type": "stream",
     "text": [
      "[[ 11   3 832  88   0   0   0   0   0   0   0   0   0   0   0   0   0   0\n",
      "    0   0   0   0]]\n"
     ]
    }
   ],
   "source": [
    "print(a)"
   ]
  },
  {
   "cell_type": "code",
   "execution_count": 28,
   "metadata": {},
   "outputs": [],
   "source": [
    "states_values = enc_model.predict( a )"
   ]
  },
  {
   "cell_type": "code",
   "execution_count": 29,
   "metadata": {},
   "outputs": [
    {
     "data": {
      "text/plain": [
       "[array([[-0.9250318 ,  0.6752312 ,  0.95101345, -0.9964426 , -0.9895105 ,\n",
       "          0.9663247 , -0.994699  ,  0.9922562 , -0.9918174 ,  0.95332503,\n",
       "          0.99505883, -0.99545527,  0.9957602 ,  0.9963229 ,  0.91156596,\n",
       "         -0.9748242 ,  0.3386685 , -0.99504113, -0.9936898 , -0.97976625,\n",
       "          0.9547825 , -0.9956732 , -0.992852  , -0.28045473,  0.9968604 ,\n",
       "         -0.9937114 , -0.01042464, -0.90232706, -0.9943071 ,  0.9945505 ,\n",
       "         -0.99429774, -0.9768969 ,  0.6647353 ,  0.06206416, -0.97602874,\n",
       "         -0.99444723,  0.9945752 , -0.9961743 , -0.80914587,  0.9963387 ,\n",
       "          0.99650925,  0.9887442 , -0.98992264, -0.8152563 ,  0.21929361,\n",
       "          0.85932785, -0.96494603,  0.00226489, -0.98585206,  0.02420429,\n",
       "         -0.9926739 , -0.67397463, -0.95304936, -0.9910338 ,  0.9617914 ,\n",
       "          0.8042295 , -0.72745275,  0.96770704, -0.01225162, -0.9968767 ,\n",
       "         -0.66481733, -0.95352626,  0.09174662, -0.96543753,  0.9945669 ,\n",
       "          0.00345756, -0.94600946,  0.989601  , -0.9503441 , -0.9896021 ,\n",
       "         -0.1201397 , -0.9935455 , -0.98456645, -0.8589895 ,  0.46336126,\n",
       "          0.99521726, -0.68223375,  0.66485745, -0.00420148,  0.18412232,\n",
       "         -0.9439274 , -0.99219424, -0.996759  , -0.9961808 , -0.9943034 ,\n",
       "          0.30331287, -0.04955332,  0.98414   , -0.9939227 ,  0.993615  ,\n",
       "         -0.9839399 , -0.05166855,  0.97837317,  0.9612647 ,  0.9975209 ,\n",
       "         -0.9960571 ,  0.98483473, -0.99558616,  0.9969546 ,  0.53572905,\n",
       "          0.9956413 ,  0.9757756 ,  0.99254924,  0.00952552, -0.948656  ,\n",
       "          0.00153142, -0.00238723, -0.3994223 , -0.99522734,  0.99631715,\n",
       "          0.99284863,  0.9927119 ,  0.88086337, -0.9144503 ,  0.01136777,\n",
       "         -0.9882832 ,  0.9976949 ,  0.01990022,  0.9957026 ,  0.9955407 ,\n",
       "         -0.9888812 , -0.9310274 , -0.9940231 , -0.9944529 ,  0.8993941 ,\n",
       "          0.31815156,  0.99467665,  0.9682534 , -0.9506545 ,  0.99468654,\n",
       "          0.8625681 ,  0.6915404 , -0.9934115 , -0.99655014,  0.9781544 ,\n",
       "          0.98632973, -0.06843846,  0.03597598,  0.00256143,  0.24107784,\n",
       "          0.9791813 ,  0.9728105 ,  0.9867772 ,  0.9963176 , -0.81442916,\n",
       "         -0.9688837 , -0.65691817,  0.74216217, -0.96031916,  0.9176448 ,\n",
       "          0.99656755, -0.9082893 , -0.94829184,  0.9617531 ,  0.9966169 ,\n",
       "          0.9961865 ,  0.99547005,  0.9882028 , -0.9867018 ,  0.9933903 ,\n",
       "          0.00939461,  0.22107846,  0.9912455 , -0.9840185 ,  0.9943683 ,\n",
       "         -0.99663943,  0.9942245 ,  0.99633855,  0.9963688 ,  0.18771933,\n",
       "         -0.9968398 , -0.97770584, -0.99605197, -0.9907278 , -0.82532954,\n",
       "         -0.9944039 ,  0.9551091 ,  0.86042535,  0.99336046,  0.95943445,\n",
       "         -0.9962044 ,  0.993641  ,  0.00684269,  0.9841484 ,  0.99517316,\n",
       "          0.07890944, -0.9947857 ,  0.5154668 , -0.99507505, -0.9865866 ,\n",
       "          0.9876664 ,  0.9050781 ,  0.9845887 ,  0.3665295 , -0.9863716 ,\n",
       "         -0.17432252,  0.8569405 , -0.9958029 , -0.98423266,  0.9577854 ]],\n",
       "       dtype=float32),\n",
       " array([[-1.6235392 ,  1.6217635 ,  1.8578839 , -3.18337   , -2.8688235 ,\n",
       "          2.0438943 , -2.9818804 ,  2.8563204 , -2.7876472 ,  2.5634084 ,\n",
       "          3.0206244 , -3.1031952 ,  3.1463535 ,  3.209856  ,  1.5893677 ,\n",
       "         -2.2010736 ,  0.35265166, -3.0988503 , -3.0094066 , -2.3650844 ,\n",
       "          1.9526095 , -3.1181495 , -3.065487  , -0.6097577 ,  3.2366133 ,\n",
       "         -2.991635  , -3.0802336 , -1.5223316 , -2.9923344 ,  3.0994034 ,\n",
       "         -3.1254776 , -2.4504328 ,  1.1868272 ,  2.886188  , -3.3000073 ,\n",
       "         -2.961605  ,  3.0189748 , -3.1605446 , -1.1364106 ,  3.1961317 ,\n",
       "          3.2280931 ,  2.5886056 , -2.854433  , -1.1707699 ,  2.5739088 ,\n",
       "          3.2242384 , -2.014319  ,  3.0365038 , -2.5439098 ,  3.1071563 ,\n",
       "         -3.0804791 , -1.2864332 , -2.2483015 , -2.8303833 ,  1.9885201 ,\n",
       "          1.1962818 , -0.9263196 ,  2.8920097 , -2.729261  , -3.2501404 ,\n",
       "         -0.90615803, -1.9461056 ,  0.27819085, -2.7561448 ,  3.0059247 ,\n",
       "          0.00350161, -3.006776  ,  2.6921866 , -1.841814  , -3.0297232 ,\n",
       "         -0.12288294, -2.9255166 , -3.2050405 , -3.010347  ,  1.0009725 ,\n",
       "          3.1168604 , -0.8434528 ,  1.1847154 , -2.7906284 ,  1.2963463 ,\n",
       "         -2.532986  , -2.8878498 , -3.2732387 , -3.1618624 , -2.9615188 ,\n",
       "          0.31649947, -3.1877546 ,  2.6131537 , -2.9933674 ,  2.9558935 ,\n",
       "         -3.039341  , -0.6563703 ,  3.172869  ,  3.1344714 ,  3.464737  ,\n",
       "         -3.162745  ,  2.5801663 , -3.2009504 ,  3.2570739 ,  0.6013727 ,\n",
       "          3.1912177 ,  2.201669  ,  2.8680277 ,  3.213449  , -2.8177357 ,\n",
       "          2.7405527 , -3.1109185 , -0.42379934, -3.0492628 ,  3.1850448 ,\n",
       "          2.9275875 ,  3.0316734 ,  1.4887038 , -1.5544202 ,  2.37781   ,\n",
       "         -3.069571  ,  3.4015284 ,  2.9263568 ,  3.1025927 ,  3.1027179 ,\n",
       "         -2.932666  , -2.9533477 , -2.932473  , -3.034417  ,  3.0396512 ,\n",
       "          3.0649793 ,  2.9806669 ,  2.0964885 , -2.0840774 ,  3.1772757 ,\n",
       "          2.5276253 ,  2.2778509 , -3.04318   , -3.1879764 ,  2.2568064 ,\n",
       "          2.5010378 , -0.06912705,  0.6950432 ,  0.84721565,  0.25585043,\n",
       "          2.2969723 ,  2.1448991 ,  2.5517223 ,  3.1967719 , -1.1584375 ,\n",
       "         -2.0747232 , -0.79033566,  1.0076655 , -2.9478564 ,  1.5909523 ,\n",
       "          3.2250512 , -2.9129472 , -1.8215076 ,  1.9990728 ,  3.2088833 ,\n",
       "          3.185751  ,  3.1107965 ,  2.8530164 , -2.5368037 ,  3.0034442 ,\n",
       "          2.5349975 ,  2.9948366 ,  2.9467516 , -2.9210997 ,  2.9844084 ,\n",
       "         -3.2072606 ,  3.0908341 ,  3.1825142 ,  3.2271204 ,  2.8322902 ,\n",
       "         -3.236123  , -2.761795  , -3.1560056 , -2.7296505 , -1.1750088 ,\n",
       "         -3.0164156 ,  1.9159918 ,  1.9089444 ,  2.9966106 ,  1.9733075 ,\n",
       "         -3.2037513 ,  2.917828  ,  2.1616905 ,  2.9831643 ,  3.0673828 ,\n",
       "          0.7871888 , -3.0660248 ,  2.9897943 , -3.045818  , -2.5848825 ,\n",
       "          2.6408162 ,  1.536062  ,  2.7786188 ,  0.3856025 , -2.6265938 ,\n",
       "         -2.5027785 ,  1.2847645 , -3.216151  , -3.0103655 ,  2.0755706 ]],\n",
       "       dtype=float32)]"
      ]
     },
     "execution_count": 29,
     "metadata": {},
     "output_type": "execute_result"
    }
   ],
   "source": [
    "states_values"
   ]
  },
  {
   "cell_type": "code",
   "execution_count": 30,
   "metadata": {},
   "outputs": [
    {
     "data": {
      "text/plain": [
       "911"
      ]
     },
     "execution_count": 30,
     "metadata": {},
     "output_type": "execute_result"
    }
   ],
   "source": [
    "sampled_word_index"
   ]
  },
  {
   "cell_type": "code",
   "execution_count": 31,
   "metadata": {},
   "outputs": [
    {
     "data": {
      "text/plain": [
       "array([[[2.6642572e-05, 3.1620646e-05, 1.9246917e-03, ...,\n",
       "         3.3558518e-04, 3.7239853e-04, 4.1406759e-04]]], dtype=float32)"
      ]
     },
     "execution_count": 31,
     "metadata": {},
     "output_type": "execute_result"
    }
   ],
   "source": [
    "dec_outputs"
   ]
  },
  {
   "cell_type": "code",
   "execution_count": 32,
   "metadata": {},
   "outputs": [
    {
     "data": {
      "text/plain": [
       "array([[ 0.07297008, -0.23760593, -0.33962986,  0.44530657,  0.22970746,\n",
       "        -0.3984393 , -0.06132379, -0.35518345,  0.39220458, -0.3940267 ,\n",
       "        -0.2866763 ,  0.36721858, -0.37411737, -0.22954394, -0.33349577,\n",
       "         0.13559686,  0.01243397,  0.10714605,  0.3674305 ,  0.3460818 ,\n",
       "        -0.30547312,  0.31980783,  0.33016282, -0.23507394, -0.5482433 ,\n",
       "         0.31155652,  0.24816948, -0.6534859 ,  0.39308423, -0.33950824,\n",
       "         0.3317517 ,  0.3928198 , -0.29441255, -0.3328644 ,  0.12693422,\n",
       "         0.39676067, -0.3594045 ,  0.39296544, -0.54252213, -0.35693634,\n",
       "        -0.3501683 ,  0.4284606 ,  0.3866239 ,  0.34095925, -0.25414258,\n",
       "        -0.32896906, -0.08450291, -0.35337067,  0.3715689 , -0.2588113 ,\n",
       "         0.3380574 ,  0.39126658,  0.2761436 ,  0.42781937, -0.32966018,\n",
       "        -0.3098288 ,  0.31954235, -0.26016286,  0.38438612,  0.3509481 ,\n",
       "        -0.24979794,  0.27665204, -0.445709  ,  0.20310852, -0.4139253 ,\n",
       "        -0.5034672 ,  0.4046483 , -0.40085587,  0.20288056,  0.3990275 ,\n",
       "        -0.66747516,  0.35603526,  0.31716266,  0.37662095,  0.40642047,\n",
       "        -0.337489  ,  0.39166582, -0.29261276,  0.38522786, -0.2590198 ,\n",
       "         0.4193077 ,  0.31855756,  0.04582072,  0.2585824 ,  0.43188915,\n",
       "        -0.6350736 ,  0.28801987, -0.3937167 ,  0.4151255 , -0.31557846,\n",
       "         0.34635392, -0.04969405, -0.35084704, -0.13049144, -0.05217788,\n",
       "         0.3945209 , -0.40905732,  0.30438524, -0.3160829 , -0.22083275,\n",
       "        -0.27238137,  0.7278422 , -0.4281261 , -0.3002613 ,  0.4444082 ,\n",
       "        -0.37012976,  0.26512372, -0.6853618 ,  0.4124264 , -0.43663025,\n",
       "        -0.45308477, -0.4284855 , -0.39153114, -0.11393911, -0.28658116,\n",
       "         0.42107978, -0.22796479, -0.40842238, -0.4135533 , -0.3995452 ,\n",
       "         0.39171287,  0.34246433,  0.5089687 ,  0.3429016 , -0.30643192,\n",
       "        -0.3126812 , -0.35286832, -0.16213895,  0.4149484 , -0.36177927,\n",
       "        -0.1357844 , -0.3170541 ,  0.12332299,  0.37562212,  0.6301062 ,\n",
       "         0.0168126 , -0.58601063, -0.44031087, -0.09718125, -0.4409265 ,\n",
       "        -0.32826424,  0.34734446, -0.46865737,  0.8421041 ,  0.38015842,\n",
       "        -0.29382592,  0.2397148 , -0.5956118 ,  0.23832542, -0.03897417,\n",
       "        -0.33706573,  0.28606364,  0.14956212,  0.5403762 , -0.44589713,\n",
       "         0.20284157, -0.40696317, -0.06592603,  0.25411683, -0.37028122,\n",
       "        -0.314088  , -0.2895642 , -0.36934316,  0.4562319 , -0.45511124,\n",
       "         0.3458403 , -0.29072   , -0.30694813, -0.3350476 , -0.30062142,\n",
       "         0.2962159 ,  0.2972842 ,  0.2739609 ,  0.3379772 , -0.00521164,\n",
       "         0.3602506 , -0.39675066, -0.31479   , -0.16948411, -0.01620851,\n",
       "         0.27894175, -0.32365984, -0.34066796, -0.3216543 , -0.33423907,\n",
       "         0.43540773,  0.43944153, -0.2652416 ,  0.2891153 ,  0.3479691 ,\n",
       "        -0.8139198 ,  0.6180374 , -0.3693837 , -0.11001022,  0.29653826,\n",
       "         0.05502007, -0.23484048,  0.27300078,  0.34636793, -0.18746687]],\n",
       "      dtype=float32)"
      ]
     },
     "execution_count": 32,
     "metadata": {},
     "output_type": "execute_result"
    }
   ],
   "source": [
    "c"
   ]
  },
  {
   "cell_type": "code",
   "execution_count": 1,
   "metadata": {},
   "outputs": [],
   "source": [
    "data = ['\"David noticed he had put on a lot of weight recently.He examined his habits to try and figure out the reason.He realized he\\'d been eating too much fast food lately.He stopped going to burger places and started a vegetarian diet.After a few weeks, he started to feel much better.Tom had a very short temper.One day a guest made him very angry.He punched a hole in the wall of his house.Tom\\'s guest became afraid and left quickly.Tom sat on his couch filled with regret about his actions.Marcus needed clothing for a business casual event.All of his clothes were either too formal or too casual.He decided to buy a pair of khakis.The pair he bought fit him perfectly.Marcus was happy to have the right clothes for the event.Bobby thought Bill should buy a trailer and haul it with his car.Bill thought a truck would be better for what he needed.Bobby pointed out two vehicles were much more expensive.Bill was set in his ways with conventional thinking.He ended up buying the truck he wanted despite Bobby\\'s advice.John was a pastor with a very bad memory.He tried to memorize his sermons many days in advance but to no avail.He decided to learn to sing to overcome his handicap.He then made all his sermons into music and sang them on Sundays.His congregation was delighted and so was he.Melody\\'s parents surprised her with a trip to the big aquarium.Melody took a nap during the two hour car ride to the aquarium.When they arrived, Melody was energetic and excited.At the aquarium Melody saw sharks, tropical fish and many others.After five hours at the aquarium, Melody and her family drove home.The math teacher announced a pop quiz as class began.While some students complained, he began passing out the quiz.I took out my pencil and began to work.About 5 minutes later, I finished.I stood up feeling confident and turned it in.My first girlfriend i met on the internet.She lives about 4 hours away from me.Finally after 2 years we met each other.She stayed with me for a week or two.We decided we couldn\\'t be apart so she moved in with me.I got Charlie Horse when I was four years old.He\\'s a brown stuffed horse, and at 35 I still sleep with him at night.He was my best friend, and always laid at the head of my bed.I laid him next to me, smelling his soft fur every night.I liked to listen to my radio as I fell asleep cuddling him.Laura loved corn.So she decided to grow some in her backyard.The whole process of growing them made her very excited.But she realized that they required too much water.So Laura quickly abandoned her corn garden idea.Andy was invited to a Halloween party.Andy figured that for dramatic effect, he should color his hair.Since Andy\\'s costume was green, Andy decided on that color.After the stylist finished the coloring, Andy regretted it.Andy was disappointed with his new, bold, green hair color.Luke was playing hockey at school.The game was tied and almost over.Then Luke made the winning shot!Everybody cheered!Luke was so proud of himself!Robbie was competing in a cross country meet.He was halfway through when his leg cramped up.Robbie wasn\\'t sure he could go on.He stopped for a minute and stretched his bad leg.Robbie began to run again and finished the race in second place.Jude was very excited about his college graduation ceremony.On the way to the arena, he got stuck in traffic.He only had an hour before the ceremony started.He thought he wasn\\'t going to be able to make it in time.Luckily, the traffic cleared up in time for him to get to the ceremony.Beth sent a letter to Santa Claus.She received a letter back in the mail.Beth did not think that it sounded like the real Santa.She sent another letter calling that Santa a fake.She did not receive another letter back in the mail.Our granddaughter Anna is very fussy about her clothes.She is only two, but wants to pick her outfits.Today her mom wanted Anna to wear a dress.Anna started crying.They let her wear a t-shirt and shorts instead.Jake needed a ride to the store.His girlfriend was working and wouldn\\'t take him.His brother was in the middle of a movie and said no.Jake decided to take the bus to the store.He got what he needed all by himself.I\\'d been looking for a stand for my TV.I looked everywhere, but the ones I saw were expensive.I happened upon a yard sale on my way home.She had a stand that was perfect, and cheap.It looks great in my den.Sally had a root canal this morning, as she had a damaged root.After the procedure, the dentist wrote her a prescription.She headed straight to the pharmacy to fill her medication.She handed the prescription to the technician and waited patiently.The technician called her name and she paid for the prescription.My dog is terrified of thunder.There was a storm today.He came running into my office.He hid in the kneehole of my desk, trembling.Once the storm was over, he acted like a brave dog again.Mark and Jo were brainstorming ideas for a children\\'s show.Mark suggested that a monster attacks the children.Jo laughed because he thought Mark was joking.Mark was confused because he thought it was a great idea.Mark left in a huff for having his ideas mocked.Ben\\'s Boy Scout Troop worked for weeks on a float.It was going to be in the town\\'s July 4th parade.They got it finished just in time.It was big enough for his whole troop to ride on.They felt proud as they went down the street as people clapped.Francis has always wanted to learn how to tie a necktie.He decides to practice until he can tie one.At first he finds it very difficult.But eventually he is able to tie a necktie very well.Francis is proud of himself for learning how to tie a necktie.Eric and his wife had a daughter named Meg.Eric\\'s wife passed away.Eric and Meg were very sad.Eric met a woman and married her 5 years after his wife died.Meg is now happy with her new stepmother.My cousin took me to a local restaurant.We ordered a large pizza.Since she never tasted the food there, she didn\\'t know if it was good.I began to start sneezing.To make matters worse, I caught an allergy.When I was 12 years old, my dad got angry and kicked me aggressively.Afterward, I became very ill, and tasted something metallic.I went to a doctor, and was informed that one of my kidneys was dead.Ever since, I\\'ve had swelling and hypertension.I started taking medications to combat the symptoms at 13.Fred noticed that he feet got very hot in the summer.He decided he needed new footwear.Fred invested in a nice new pair of sandals.He loved wearing his new sandals.Fred was glad that his feet no longer got hot in the summer.Last year I took a day trip to see a friend in Maine.I took the Amtrak from Boston to Saco, Maine.We had lunch at Gritty\\'s in Portland.My friend drove me back to the train station.I had a nice time and will visit my friend this year.Heather and her family really wanted tacos for dinner.Two of the children wanted chicken tacos.The other two children wanted beef.Heather took great care preparing all the tacos that each wanted.Everyone sat down at dinner and enjoyed eating the tacos together.Anna was filling her bird feeders.But a chunk of suet fell onto the ground.Her dog rushed over and lapped it up!Anna was astonished.He lives in Delhi. She goes to school. I come from Germany. I live in Dresden. I am from Egypt. I am going to France. I live in China. She had no idea dogs loved bird food!James had an Xbox 360.His friends had Xbox accounts online.James registered, but was still unable to connect online.He called for tech support, but they couldn\\'t help either.He realized he would need a new Xbox.The people gathered to protest the court\\'s ruling last week.They held signs and chanted loudly.The police stormed in and arrested them all.Now there are more protests in surrounding towns.The movement is gaining momentum!My roommate and I bought a new futon for our living room.The futon came in a huge box.We set the box out on the curb to be picked up on trash day.Much to our chagrin, the garbage men left the box on the curb.We had to take the box to the dump ourselves.Bob chased after the rainbow through the fields.He ran after it over forests and streams.Bob thought he\\'d lost it behind a boulder.He found it waiting for him on the other side.When Bob dived for the pot of gold, he woke up.Soren ran through the airport, pulling her bags behind her.The female voice above her announced final boarding to Soren\\'s fligh.She yelled for them to wait as she neared her gate, waving her arms.The attendant at the desk gave Soren a sad, sympathetic look.Nearly out of breath, Soren presented her pass and boarded the plane.Charles had always wanted to have a college degree.He worked hard for many years to complete his courses.Finally he turned in his last college essay.All of his family attended his college graduation.Charles was proud that he had a college degree.Stacy originally thought she wanted five kids.She and Bob first were blessed with a daughter.Two years later, they had twin girls.Now, Stacy is selling all her maternity and baby clothes.She says she has changed her mind about wanting five kids!Lance was going to make a bet.He was thinking of making it a big one.He was going to bet all of his savings on a Race.The day of the Race is here.Lance crosses the finish line and Wins it all!Larry worked at an accounting firm.It was a boring job but it paid the bills.Larry grew tired of doing the same thing every day.He had the idea to have an office party.By lunch the whole office had passed out and nothing got done.Ava was six years old.She wanted to learn to swim.Her mom took her to the pool.There, she patiently taught Ava the basics.Soon Ava was paddling all by herself!James was walking down a street one afternoon.He noticed a wallet lying on the ground.He decided to bring it to the police station.That evening, the phone rang.The old man had called to thank James for returning his wallet.Chad\\'s dog would always jump on people.Chad couldn\\'t bring his dog anywhere.Chad decided to hire a dog trainer.The trainer taught the dog how to behave.Chad was proud to finally show off his dog to others.Karl was a good baseball player in his youth.As a middle-aged man, he joined an adult baseball team.Karl is very competitive and will do anything to win.One day, he slid into second base to beat a throw and hurt his knee.The injury made Karl realize that he wasn\\'t young anymore.Nick was trying to buy a house.He lived with a roommate that he couldn\\'t trust.His stuff always ended up missing from his bedroom.He knew it had to be Nick so he decided he would move out.He found a place and moved out as fast as he could.Jody bought a goldfish from the pet store.She noticed that the goldfish looked quite fat.Her mom told her that the goldfish had too much to eat.Jody adjusted her pet\\'s diet.The goldfish got skinnier and healthier.Jane had recently gotten a new job.She was nervous about her first day of work.On the first day of work, Jane overslept.Jane arrived at work an hour late.Jane did not make a good impression at her new job.Jill was going on a trip to the amazon.She arrived after a flight from the US.Once there she marveled at all the beauty.It was dangerous, but exciting.Jill had a wonderful time on her trip to the Amazon.Chris is a defense attorney.He has a client that he must defend in court.The client is not guilty.Chris does his best to defend his client during his trial.Chris wins the case and the client goes free.Julie was feeling hungry.She thought she would order some Pizza.Julie order the food through an online website.The pizza arrived and Julie tipped the driver.Julie went to take a bite of the pizza and it was burnt!Justin was terrified of dogs.His girlfriend had a dog and he wanted to feel comfortable with it.Justin went to therapy to help him get over his fear.After a few months of therapy Justin felt better around dogs.Justin then moved in with his girlfriend and her dog.David was walking down the street when he felt down.He stood up and saw that his knee was bleeding.He found a handkerchief in his pants and applied it to the wound.He hopped to the nearest pharmacy stifling his pain.He then bought some peroxide and bandages to treat his knee.Nicole wanted to go to a concert in another city.Unfortunately, Nicole could not drive.She asked her cousin to take her to the concert.Her cousin agreed to drive if Naomi bought the tickets.They went to the concert and had a great time.I woke from my sleep at around three in the morning.I heard a scratching sound coming from inside my closet.I turned the light on beside my bed to investigate.I crept slowly toward the closet.My little brother jumped out of the closet, scaring me to death.Ken put a bottle of beer in the freezer.He heard a popping noise.He looked in the freezer and saw the bottle had burst.He didn\\'t want to wait for another beer to get cold.He drank a warm beer instead.Christmas was Tyler\\'s favorite holiday.On Christmas morning he ran downstairs to the tree.Tyler saw so many presents and could not wait to open them.By the time his parents woke up, Tyler had opened all his presents!Tyler showed his parents everything Santa Claus gave him.Wendy was working at her local fast food establishment.She pretty much hated her Job.Wendy was having a rough day and her employees were annoying her.The cook decided to defy her orders when she said go clean the trash.Wendy flew off the handle and fired him on the spot.Walter was worried because his dog was showing a lot of aggression.I live in Paris.I live in London. I would like to visit India. I want to go to a Coffee Shop. I am going to New York. I want to find coffee shops around me.I will return to the parking lot later.The dog recently began snapping at other dogs and even people.Walter consulted with his veterinarian.The vet discovered that the dog was suffering a flea infestation.Some medication got rid of the fleas and the dog\\'s bad mood, too.The couple took a romantic trip to the lake.They stayed in a nice cabin by the water.They went boating and relaxed in the hammock.They were happy to reconnect with each other.When they returned home, they decided to buy a lake house.The family planned their first trip to Universal Studios.They were excited to go on all the rides.They saw a lot of the characters.They spent three days in the park.They were sad to come home.I went to a restaurant.I ordered fries.They put ketchup on the fries.I was furious at the awful site.After complaining, I was given delicious, ketchup free fries.The woman decided to start a new hobby.She went to the craft store and picked out some supplies.She went home and created an amazing masterpiece.She was very proud of her work.She displayed it in her kitchen.James had always wanted to try out for a sport at his school.He decided he would try out for football.James exercised every day to be ready to try out.After trying out, James was accepted onto the team.James was glad to be playing a sport at school.Josie wanted to win an important race at school.She woke up early for a week to practice in the park.She also hired a coach to train with him after school.When the race event started she was really nervous.But all her hard work paid off and she made it to third place easily.Kayla parked her car in front of the convenience store.She got out of the car, and began to walk towards the store.Suddenly, she got hit in the head with an egg.She looked up and saw teenagers on top of the store.The teenagers ran away, and Kayla was left with an egg on her head.A police officer got a new patrol route.He wasn\\'t familiar with the neighborhood.He spent a lot of time familiarizing himself with the street names.SOon he got to know everyone in the neighborhood.He was beginning to feel at home.Mikey has a habit of taking items that don\\'t belong to him.Last night he stole a trailer from Henry\\'s yard.Henry has a camera in his yard and caught Mikey on tape.The cops were called and took Mikey to jail.Mikey is now sitting in a cell thinking about his actions.Roger was hungry.He checked the fridge.The fridge was empty.Roger went to the store.He came home with lots of food.Bob stared in disbelief at the flooded basement.All that could be seen were the stone arches above the doors.The plumber told him it flooded because the sump pump was off.Bob understood that was because the electricity had also been off.He enabled the electricity and the pump drained the flooded basement.Oscar decided that he no longer wanted to be out of shape.He decided to start running outside every day.At first he found it very difficult.However, over time, Oscar began to enjoy running.He was glad to be getting in shape.Jill went to the doctor for her annual exam.A lump was found on her breast and she needed more testing.She went to a follow up appointment and it was confirmed as cancer.Jill went through several rounds of chemotherapy.Fortunately, she had no signs of cancer following her treatment.Jasmine had homework to do.She did not have a pencil.She looked around the room for one.The room did not have a pencil.Jasmine decided not to do her homework.Marc always had perfect attendance at school.One day, he stopped coming to class.Everyone was worried about him!He came back a few days later.He had been in bed with the flu.Joe was really excited for Christmas.Joe has never seen Santa Claus before.He decided to hide on top of the staircase to try to catch Santa.Joe waited as long as he could before he fell asleep.He woke up to many presents under the tree, and no Santa in sight!Anna went to pick apples.She tried to pluck the low-hanging fruits.But she could reach very few.At the end of the trip, she had only ten apples.Anna wished she had been able to reach more apples!Bob bought a new manufactured home in Montana.He was sad he didn\\'t have any land to grow a garden on.One of his neighbors told him he could vegetables in tires.Bob tried it and was astounded when it worked.He\\'s very proud of his tire grown tomatoes and corn.The candidates were running a tight campaign.The latest poll said they were tied.The Republican candidate focused on radio ads.The Democrat focused on TV.They fought for every vote they could grab.Johnnie got dragged to the ballet because his sister wanted to go.He was dreading how boring it would be.He was already bored when the lights were dimmed.Then when the dancers started he got into it.He was sad when it ended.Dan had always wanted to participate in a marathon.However he was scared that it would be very difficult.He decided to practice until he felt stronger.Finally he was prepared to participate in a marathon.Dan was glad that he was finally going to run a marathon.Bill\\'s wife, Carly, warned him that it would rain today.Bill disregarded this, and began mowing the lawn.Within minutes, rain began pouring down on Billy.Billy hurried to get the tools inside the shed and went in the house.Carly was there, giving Billy the look that says I told you so.Joe rented a movie from one of the last rental stores.He had it for five days so he was going to keep it that long.At the end of the fifth day he decided to take it back.The store closed early that night.Joe now has to pay a ten dollar late fee on a five dollar movie.Janet loved to pet her neighbor\\'s dog.She was told the dog had puppies a few weeks ago.Janet was very excited to see them.She begged her parents to let her have a puppy.Janet was very happy when she walked back to her house with a puppy.When Shawn was growing up he collected beanie babies.He had hundreds of them.He was convinced that they would be worth a lot of money.He kept them for almost twenty years before realizing he was wrong.He is now just a grown man with hundreds of stuffed animals.Jasmin got pregnant during her senior year of high school.She was very worried that her life would be ruined.She had her baby after graduation.She was still able to go to college to pursue her education.As soon as she graduated, she landed her dream job!Randy had recently separated from his wife.He felt very lonely and sad all the time.He considered trying to patch things up with Vera, his ex-wife.He decided to get a puppy instead.His decision made him happy and he no longer felt sad.Tim needed to take a large test to graduate from high school.He was confident he would pass.However, Tim never studied for tests, including this one!Tim guessed all the answers, failed the test, and did not graduate.Tim learned that studying is important.Lucy made marinara sauce for her family.It took a lot of time and effort.They ate it all and said it was great.She finally tried it and it was disgusting.She was happy they all pretended to like it.Little Charlie and his dad were painting the garage.Charlie had some trouble controlling the brush.His dad turned around and started to laugh.Charlie had paint on him from head to toe.His dad rinsed him off with water from the hose.Fred was never one for the gym.He was always worried about what he would look like going in there.One day he decided to go for it.It was a great life change for Fred.He started looking better and feeling better, all thanks to the gym.Leah and Kerry went to the beach in December.Kerry put on her bathing suit and waded into the ocean!The water was so cold that Kerry\\'s lips turned turned blue.Leah pulled her from the icy water, saving Kerry from frostbite.Kerry learned not to swim at the beach in cold weather.Eliza needed a new dress for a party.She went to a department store and looks at their dresses.Eliza finds a purple dress that would look great for the party.The store does not have the dress in Eliza\\'s size.Eliza is sad that she will have to keep looking for another dress.Jane walked into the home improvement store, ready to complain.Her new lawn mower would not crank, so she brought it back.She talked to the clerk, who asked for her receipt.She gave him the receipt, and she exchanged the mower for a new one.Jane took the new mower home, and it cranked immediately.The children laughed as it started raining on them.They splashed about and started throwing mud at each other.Nora looked aghast through the door and prepared to yell at them.She paused when she realized how much ridiculous fun they were having.Nora decided to laugh at their antics and to join them, instead.Karen\\'s job requires long hours at work.She works upwards of 80 hours per week.Karen decides that she needs to relax and have some time off.She books a vacation to Mexico.Karen travels to Mexico and has a very relaxing vacation.The boys were so excited they couldn\\'t even sleep that night.It was Christmas morning and they sprang out of bed.They ran downstairs to the tree.There it was!The brand new Go Cart they had wanted.I was listening to the music saved on my phone.Since the volume was on the highest setting, I couldn\\'t hear anything.My mom tried to call me, but I didn\\'t respond since I didn\\'t hear her.When I went to look for my leftover food, it was gone.My mom told me that she ate it.Jeff needed a big amount of money.He had made some bad bets and was down big.Jeff decided he had to take extreme gamble.Jeff bet all of his life savings on the basketball game.Jeff won and covered the spread to win it all.John decided he wanted to move to a new state.Before he could move he needed to sell his house.A buyer offered John a good price for his house.John sold the house.He was happy that he could now move to a new state.Sandy wanted to go clubbing.She was going to the hottest club in the city.She got to the club and started to have a few drinks.She saw her ex boyfriend who wanted to come talk to her.He caused a big scene when Sandy Refused.Bobby wanted to take his family to the beach.He planned the itinerary carefully.When it was time to leave, they loaded up the car.THey spent the next five days relaxing on the sand.It was a great family trip!Jane wanted to become a better artist.She bought brushes and paint from the art store.She practiced her painting skills whenever she could.The next month, she entered an art contest.She was excited when her painting won a ribbon.I was going to a Halloween party.I looked through my clothes but could not find a costume.I cut up my old clothes and constructed a costume.I put my costume on and went to the party.My friends loved my costume.Allen thought he was a very talented poet.He attended college to study creative writing.In college, he met a boy named Carl.Carl told him that he wasn\\'t very good.Because of this, Allen swore off poetry forever.Joy and Lizzy wanted to make breakfast in bed for their mom.It was her birthday so she deserved something special.She like her eggs sunny side up.The girls tried but they kept breaking the eggs.So their mom had scrambled eggs instead.Shannon was moving to Beverly Hills.She had won the lottery and bought a mansion.She felt like she didn\\'t fit in.Everyone else was very thin and beautiful.Shannon decided to go back to Kentucky and be herself.Jean had a job interview for a position she really wanted.The interviewer said the company would call the next day.That day, Jean discovered her phone had no dial tone.She frantically searched and finally saw her room phone off the hook.She fixed it and a minute later got the call: she was hired!Suzy was a three year old girl.She wanted the famous paw patrol toy.She begged her daddy day and night for it.One day her daddy took her to the store.Suzy was so happy that daddy bought her the paw patrol toy!Two weeks ago my sister in law called up.She was watching her ten and seven year old grandchildren.They were misbehaving, and getting restless.She brought them down to our apartment for distraction.After watching tv for an hour, she took them home to their mother.Anita wanted to bake a cake.She looked in her cupboard for ingredients.She needed cocoa powder but could not find any.Anita remembered that she had some chocolate bars.She melted the chocolate down and mixed it into the cake batter.Diana sneezed in class.Everyone immediately said bless you.On the other hand, I sneezed and got no response.I became more suspicious when the event happened again.Instead of being mad, I assumed that they were not mad at me.I woke up early yesterday because I was going on a trip.I got dressed.I drove to Dunn\\'s river falls.I explored the falls.I went home exhausted.Tim went on a cruise vacation.He relaxed in the hot tub every night.His favorite activity was exploring each island the boat stopped at.Tim bought many souvenirs.He was sad when his vacation was over.Teddy was looking for a new car.He decided to head to the dealership.He wanted to pick out the best one for him.He chose the ford mustang.Ted was so happy with his new car.Daniel was good at his work but he never listened to his staff.During a meeting, he refused all the good ideas of his employees.He even said there was no way to fix the problem they were facing.His own boss was very disappointed when Daniel had no solution.He had no choice but to demote Daniel and remove his privileges.Janie loved getting mail.She even loved getting bills.People thought she was crazy.One day she received a package and was so excited.It was a present and she realized this is why she loves mail.Anthony auditioned for a solo.He blew the judges away.When it was time to perform, Anthony got cold feet.He gave himself a pep talk.Finally, he took the stage and sang.Kelly ran into the living room, frantically.As she entered, she accidentally bumped into the coffee table.The vase on the table crashed to the ground but broke in large pieces.Kelly quickly grabbed some glue and put the vase back together.She sat the repaired vase onto the table as if nothing happened.Anna was very nervous about her blind date later that evening.After many outfit changes, she decided on jeans and a sweater.Anna was five minutes early to the agreed upon restaurant.She was surprised to find herself enjoying her dinner date.After lingering over dessert for an hour, they planned a second date.Sarah was tired of seeing spiders in her room.So she decided to use special bug spray.But later, she read that birds are a better solution.So she built a birdhouse to attract birds to her backyard.And she didn\\'t see spiders in her room anymore.Angela was walking around the pond.She saw a frog resting on the lily pad.She threw a rock at it.She tore a hole in the lily pad!She thought she\\'d get in trouble, so she ran away.Sonia wanted to buy a beautiful dress for a wedding.She went to her favorite store and asked for help.But the saleswoman was very rude and didn\\'t help her at all.Sonia had to go to three more stores before finding a good saleswoman.She finally managed to find one and bought a nice dress.Megan was down on her luck.She wasn\\'t doing very well and had just been laid off.Her friends got together and thought up a plan.They all came to Megan\\'s to cheer her up.Her friends helped her anyway they could and she was happy.Bill is driving to work.His car begins to make a loud noise.He pulls over to see what\\'s wrong.He opens the hood and smoke flies everywhere.He calls triple a and waits for help.Vanessa didn\\'t like winter or cold weather.Her parents were always trying to get her to play outside in the snow.Vanessa\\'s parents showed her how to make a snowman from the snow.Vanessa loved the snowman so much that she built more snowmen.Now Vanessa\\'s parents have to limit her time playing in the snow.Sam\\'s dog Rex escaped from their yard.Sam was distraught.He went out calling for Rex.Then he saw Rex come running up the street!Sam was so relieved, he almost cried!The parents wanted to take their family on a vacation.They chose to go to Rome as the vacation spot.In Rome the family visited Vatican City.In Vatican City they saw the Pope and ate delicious food.After two weeks the family returned home excited for the next vacation.Ella loved to garden in her backyard.One day, her garden had been destroyed by a groundhog!She wanted to get rid of it in a humane way.She caught it in a trap.Her garden was never dug up again.Arthur did not want to go to school.A bully was always being mean to him.One day Arthur decided to stand up to the bully.When the bully pushed him, he pushed back.The bully was surprised and decided not to pick on him.One day two girls were walking home.Karen the first girl said did you hear that noise?It was something coming from the bushes.It was a poor orange kitty that nobody wanted.She meowed her way into the girl\\'s heart and she took her home.The kids went to Chinatown for the first time.They ate some good food.They bought fun souvenirs.They stared at the beautiful lanterns.It was like being in another country!Jane was having a hard time in school.She was partying too much and not giving school much attention.Jane decided she was going to cut out the partying.She tried her hardest to do well on this test.Her grade came back and it was an F.Annie was frustrated that her one year old wasn\\'t walking yet.All of her friends children were walking.She tried everything she could think of to help get her baby moving.She sat down in frustration when nothing worked.She realized her baby would walk when she was ready.Yesterday, I went shopping for shoes.I went to Shoe Carnival, looking for a great pair of running shoes.I found all kinds of colorful options, and it was very hard to choose.I picked a pair with rainbow colors, because it made me feel young.I walked out of the store very happy with my purchase.Greg was kayaking in the ocean.All of a sudden, a huge whale popped up in front of him!The whale made a big splash.Gary wished he\\'d had his camera rolling.He told all his friends about the amazing experience.Our apartment building hosted an ice cream party in June.They hired an ice cream truck to give out free ice cream.The truck was parked in the driveway, which was blocked off to traffic.We had ice cream and watched a lot of young children eat.The party lasted two hours, and we had a lot of fun.David was faced a particularly difficult exam.He expected to just pass based on it.However, he saw a person carelessly showing his exam.Noble David decided to not cheat.Unfortunately, David did not pass this difficult exam.Francine decided she wanted to do something fun this weekend.She thought that painting her nails would help make her feel fun.She painted her nails a bright blue color.Afterwards, Francine felt very happy.She was glad that she had painted her nails.Kira didn\\'t know what to make for dinner.She searched the kitchen cabinets and refrigerator, taking inventory.Kira\\'s sister suggested they order a pizza instead.Kira smiled, realizing they had pizza ingredients in the house.Kira and her sister made pizzas for dinner.A woman got a new job at the jail.It was full of dangerous criminals.She got to know a few of them.They became friends.She helped them escape.On Monday I went to lunch with my friend.We went to a small Italian restaurant.I ordered pizza.At first I thought it tasted okay.Yet to my shock I got sick when I got home.Dean met a man on the street that said he needed help.He felt bad for him, so he gave him a job at his church.The next day, Dean entered the church and was shocked.Everything of value was stolen!Dean never saw the man again.Tom was an actor.He had to do a cartwheel in one scene of the movie.The director did not like the cartwheel that Tom did.Tom had to do cartwheels all day until the director was happy.Tom went home with a backache.Jessica wanted something cold and sweet to eat.She looked in her freezer but didn\\'t see ice cream.Jessica saw some fruit on the counter.She put the fruit, ice and yogurt in a blender.Jessica enjoyed her healthy smoothie.Kaya walked to school in the morning.It was a lovely day.But after class, it had begun to rain!Poor Kaya had brought no umbrella.She was forced to walk home in the rain.Dallas always wanted to be a professional wrestler.He decided he was gonna give his dream a shot.He knew he wasn\\'t the biggest or the fastest.He was determined to become what he aspired to be.Dallas walked out into the ring and finally realized his dreams.Bill\\'s older brother told him he\\'d never get a date.He spent too much time playing video games.One day he was at the video game store.A pretty girl came up beside him, asking his advice on a game.They hit it off so he asked her out and she said yes.Mrs Arthur had rules about when her son could play video games.She caught him playing after hours and took the game away.Her son waited until she was not around, found the game, and took it.Mrs Arthur caught her son with the game again the next day.She had to punish her son more severely to teach him the lesson.Brad needed to find a date to the prom.He asked just about every girl in school.One day a new girl came to his school.She was all alone and had no friends.Brad decided to ask her and she said yes!The wife found out her husband and sister had an affair.She was horrified!She kicked the husband out and changed her phone number.She never spoke to either of them again.She found a great new husband who was much more caring.Stephanie loved her garden and spent a lot of time there.One day, she noticed aphids attacking her plants.Stephanie knew that ladybugs could help.She bought one hundred ladybugs from a garden store.Stephanie released the bugs and they gobbled up all the aphids.John was driving to work early one morning.He was taking the usual route that he knew well.He felt comfortable, so he began browsing through his phone.Suddenly, he blew a stop sign a careened off the road.He realized that using his phone while driving can mean real danger.Phil loves playing sports with his friends.All his friends love basketball, but Phil really likes soccer.Phil invited all his friends to play soccer with him on Friday.They all showed up and play soccer.Now Phil\\'s friends love playing soccer!Joshua traveled to State College to visit the campus.He looked at the dorms and auditoriums.He really felt at home.He signed up for classes at the end of the visit.He knew this was the school for him!Crystal decided to learn how to sew.She worked hard at cutting out the pattern.Then she lined it up and sewed the edges up.She had created a beautiful pillowcase!Crystal decided to try a quilt next.The couple was hiking in the desert.They stumbled upon a ram.They were scared at first.But the ram just walked away from them.They were happy they\\'d seen such a beautiful animal in the wild.Susan was getting a haircut for a wedding she was going to be in.She was excited as she looked at the example pictures.As she looked through them she seen one she loved.She showed the hairdresser the cut that she had wanted.The hairdresser did a great job and Susan loved it!Jason was a healthy young man.He worked at taco bell with his brothers.One day he got into a big fight with his brother Matt.He quit the Job on the spot.Jason never wanted to get a real job again.The photographer was looking for something interesting to photograph.He happened to walk by a beautiful garden.It was full of lovely flowers.He started snapping picture after picture.The next month, he opened a show featuring the lovely flower photos.Marlene took her dog for a walk.While they were out, Marlene got violently ill.A kind motorist stopped and offered to help.He drove Marlene to the Emergency Room.She was in the hospital for a whole week!Nick\\'s school was having a talent contest.He decided to enter the contest and play his guitar.He\\'d never performed on stage before and was very nervous.Nick\\'s nerves caused him to play poorly.He lost the contest and decided to never do it again.Bob was looking at a house near the Missouri river.As the agent showed him the house, he saw something in the river.They went to take a closer look.Bob was aghast when he realized it was a bloated corpse.The agent said people drowning wouldn\\'t affect the home\\'s value.Jill\\'s birthday was Saturday.Her daughter wanted to surprise her, so she contacted all her friends.They all bought presents and showed up at the right time.Jill\\'s daughter forgot to tell her she was having a party.So Jill didn\\'t show up for her own birthday party.There was a bug on the wall by the bed.Kate grabbed a shoe and went to kill it.She had to stand on the bed to reach the bug.Afterwards she turned and ran right into the ceiling fan.Luckily it was on low, and she wasn\\'t hurt at all.Ellie\\'s cat Jazz was a tuna fiend.Any time Ellie opened a can of tuna, Jazz knew about it.Ellie tried to trick Jazz by buying bagged tuna.As soon as Ellie opened it, Jazz was there.There was just no hiding tuna from Jazz!Genie made everyone at work feel uncomfortable today.She always seemed sneaky, but she had something up her sleeve.Next thing we knew, she was in the office talking to the boss.She was lying about several of us, and wanted us to get fired.Now we are all nervous and waiting to see what happens.Tom was tired of his small dog yapping around him.He put it in the basement and shut the door tightly.Tom cherished the sudden quiet and took a nice long nap.It rained torrentially while he slept and the basement flooded.Tom\\'s little dog was trapped in the basement and drowned.A swan swam gracefully through the water.It was beautiful and white.It had a long orange beak.The crowd gathered and observed it.It was a beautiful creature.The family arrived at the port to take their cruise.They were so excited!At their first port, they got terribly lost.They missed the cruise leaving.They were stranded in Italy.The new lawyer was happy to be practicing in a courtroom.She was determined to be totally prepared.On the first day of the trial, she gave a great opening statement.She felt very confident.The jury said that her client was not guilty.Rosie started drinking alcohol at age 16.After high school, Rosie drank every night.One day, Rosie decided to drive her car after drinking.Rosie got into an accident by drunk driving.Rosie had to go to rehab for drunk driving.Sam was eating a jolly rancher.All was going well until he chomped down.Suddenly he felt a sharp burst of pain.Sam has broken off a piece of his tooth.He rushed to the dentist and had emergency surgery.This afternoon, I was very intent on going to Big Sur.I took my car and drove for hours.Midway, I stopped to take some refreshments at a diner.When I came out, it was raining.I finally arrived in the middle of a storm, but I was still happy.Billy wasn\\'t able to ride the big roller coaster last year.He didn\\'t meet the height requirement.He knew he had grown in the past year.He ran up to the measuring stick to see if he was finally tall enough.He made it by over an inch so he could finally get on it!Martin was ready for his biggest trick yet.He set up the ramp, making sure to line it up right.This was it, his big moment.He started pedaling towards the ramp full speed.He launched in the air, nearly clearing the whole driveway.Cam wrote a love note to a pretty girl in his class.He handed it to her as he walked to throw something away.She opened it and immediately wrote back.Cam picked up her response, from her desk.He read it and was happy she would sit with him at lunch.Rachael really wanted to have a slip and slide.So she bought one and set it up.No one was using it so her brother felt bad.He decided to go for a run on it.But when he slid the ground was so hard it cut his leg.Abe heard some scratching on the door.He opened it and found a tiny kitten.He scooped her up and gave her a bowl of milk.He tried to pet her but she scratched him and hissed.Abe put the kitten back outside and told her to scram.I bought a cheap jacket.It was only a dollar.It fell apart the next day.I then decided to buy a hundred dollar jacket.That jacket lasted forever.Janet went to a farm with her class.They were all having fun looking at the animals.Janet walked over to a lamb.She was given a snack to give the lamb and enjoyed feeding it.The rest of the day Janet stayed by the lambs side.Bea yelled out that the computer was broken again.Mike walked into their shared office and looked at her,  exasperated.Mike rolled his eyes.He approached Bea and the computer, sighing a long suffering sigh.Mike switched on the computer monitor.Bob took Laura to a Monster Truck Rally.They sat on the front row.Laura watched all the different trucks.She also saw different cars get crushed.It was Laura\\'s first time at a Monster Truck Rally.Linda had a new baby.Her other kids weren\\'t adjusting well.They baby cried all the time.Linda said it would get easier when the baby got older.The siblings were not pleased with the new addition.I used to smoke a pack of cigarettes a day.I had tried many times to quit smoking.Finally, I was able to quit smoking by switching to e-cigarettes.Then I read that e-cigarettes are harmful to my health, too.Now I am trying to quit using e-cigarettes.I have a friend who fell in love with Skittles when we were five.He ate them every day, and would bring them in a container to my house.He liked the red ones the best, so he\\'d give me all the rest.We sat on the bed and ate them and drank chocolate milk.We did this every day after school for 3 years.Our 2 year old granddaughter is fussy about shoes.She likes to wear only orange Crocs.Her day care will not let her wear Crocs for safety reasons.Her father took her to a shoe store.After two hours, she picked out a pair of shoes.Ben found a frog in the creek.It was green and slimy.He took it home and put it in a bucket.The next day, the frog was gone.He\\'d jumped out and escaped!Noah was looking for a very special butterfly.He went to the woods and walked all day.When night fell, he made a fire and waited.Around midnight, in the pale moonlight, he saw one.He looked at it, was mesmerized and let it go.Cam wanted to shake up his daily routine.When he went to school he began to talk with a Scottish accent.His friend thought it was hilarious.The teacher told him to stop doing this act.Cam refused and claimed that this was his normal voice.Shane noticed that his beard was becoming long and unprofessional.He decided he should shave it.It was difficult to shave because it had grown so long.When he had finally shaved, Shane felt much better.Shane was glad to look better now that he had shaved.Jaime has loved to cook food since he was a young boy.He went to college for business, but he always wanted a restaurant.Last year Jaime bought a building and opened his first restaurant.It\\'s called Fit Eats and it serves really tasty, healthy food.Jaime can\\'t keep up with orders sometimes he\\'s so busy.Bonnie was not ready for the history test tomorrow.When she went to bed she wished it would snow.That way school would be cancelled so she could study more.She was excited when she woke to four inches of snow.She spent the whole day studying so she\\'d be ready for the test.Joan went to the casino to try her luck.She put $10 worth of quarters in the first slot machine she saw.She didn\\'t win anything and was very disappointed.On her way home, she found $10 on the pavement.She smiled, took it, and went home with a light heart.Marnie was getting married.For her wedding, she needed her makeup done.As a result she hired a makeup artist to help her.When the makeup artist was finished, marine looked at it.She was horrified and ended up firing her,Yesterday I received a huge box of door handles I had ordered.I opened it to reveal beautiful, shiny new handles.I carefully removed the old, ugly handles from my doors.The new latches and striker plates do not fit the openings on the doors!I must fix the new parts so that the doors close properly.It was my first time cooking dinner for myself.I decided to stay simple and cooked a hamburger.As the meat cooked, my nose was treated with a wondrous smell.After it finished, I took it off the grill and slapped it on a bun.I wasted no time and took a huge bite of my perfect burger.Mia is very beautiful.Mia stays in good shape and eats healthy.Because of Mia\\'s good looks, she decides to become a model.Mia moves to New York to pursue modeling.Mia walked the runway in her first fashion show last week.Larry was only 5 years old.He loved to go riding on his boat with is dad.His father became ill of cancer and passed away.Larry still to this day sails on the boat.He loves to imagine his father is still with him and his boat.My grandparents and I were going for a walk.We were walking near some pine trees and turned a corner.Suddenly, right in front of us, was a huge moose.It was so close that it scared us, but they told me not to run.We all stood still and soon the moose walked away without harm.David has to buy his wife Sarah a gift for their anniversary.David went out all day on Friday to find a gift.He searched all over, but he couldn\\'t find the perfect gift.Eventually he decided to cook her dinner instead.Sarah loved the dinner he cooked for her!The crowd waited at the turtle nest, as the eggs would hatch soon.An egg began to crack open, and the crowd got very quiet.The crowd cleared a path for the baby turtle to enter the water.The turtle entered the water successfully and the crowd cheered.They then went back to wait for the next egg to hatch.Lenny wasn\\'t having any luck at the slots.He thought it just wasn\\'t his day.He was down to his last quarter.He decided to put it in the slot and pull.Lenny\\'s eyes lit up with joy as he hit the jackpot.Sam loved playing video games.Sam decided to become a video game developer.Sam studied very hard in school and went to college.After graduating college Sam was offered several jobs in gaming.Sam selected his dream job and designed his own video game.In 2014, Marcy adopted a poodle.She named her Cookie, because she resembled an oatmeal cookie.Cookie learned to protect Marcy\\'s two daughters from harm.She went for walks with them every evening, and was allowed to swim.Cookie made the kids very happy that year.Vivian set out on a long car ride.She had books and a crossword puzzle.She also brought a pillow and blanket.The ride took fourteen hours.Vivian didn\\'t mind it because she was well-prepared.Barry loved to play kickball, since he was a little boy.Barry decided to organize a kickball team in his neighborhood.Barry received many individuals wanting to join the team.Barry had such a large response, that he had to organize several teams.Barry was thrilled that he could organize a local kickball league.Hailey is looking forward to her vacation and she has a lot to do to.She started doing her laundry to make sure her clothes were clean.When the clothes were done, she started to pack her suitcase.After everything was packed she went to bed early enough to get sleep.She walk up early the next day and it was time for her to travel.The couple was renovating their kitchen.The wife wanted marble floors.They installed them and she regretted it immediately.The floors were so hard to keep clean!She decided she would go back to wood floors when she could afford it.Mimi had almost drowned in the ocean as a child.As a result, she was terrified of pools and never went in them.One day, her boyfriend invited her to his pool.She wanted to swim with him, but was so scared.She told him her fears and he held her hand as they swam together.Bob was feeling very tired everyday.He decided to live a healthier lifestyle.Bob eliminated all processed foods from his diet.Bob started eating fruits and vegetables in all his meals.Bob had more energy after changing his diet.Ben made plans with Diana to watch a movie on Friday.As soon as he approached the theater, he waited for her.A few hours have passed and she still didn\\'t show up.While building up frustration, Ben left and visited another friend.They spent the rest of the day playing basketball.We took our son to Incredible Pizza for his birthday.He spun the giant wheel, and won lots of points.He used them all in the arcade room.He enjoyed the bumper cars and laser tag.He ended the day with a nice toy from the rewards desk.The King had a problem on his hands.Their was war going on in his Village.He knew he was going to have to go into Battle.The king and his town gave it all he had against the rebels.The king was caught and executed in his town.Sammy was tired of working, but she soldiered on.Finally, it was time to leave the office for the day.Being home, she thought  entering her garage, was wonderful.Then, a party surprised her when she opened her front door.She ate cake and enjoyed her friends and family.Tom always wondered if he\\'d ever see Sue again.She had decided to marry someone else and they had moved far away.Now, she was divorced and would be coming to the class reunion.Tom and Sue spent most of the reunion talking with each other.The two reunited lovebirds have been together ever since.Bill worked in a prison.His job was to maintain prison walls.He accidently left a hole open and a prisoner got out.He got fired for his mistake.Bill decided that the work was no longer for him anyway.Kyle wanted a new bike so he could ride with his friends.He didn\\'t have enough money to buy one.Kyle set up a lemonade stand with help from his dad.He made enough money to buy a bike.He rode with his friends every day!John and his girlfriend of two years had broken up.To help get his mind off it, he took his dog to the dog park.He sat down on a bench after he unhooked his dog to go play.While he was there a very pretty girl started talking to him.He enjoyed himself so much he asked her out and she said yes!Gina liked to wake up at night and eat something.She prepared toasts in the middle of the night with glee.Her husband who was aware of her behavior tried to help her stop.He changed the peanut butter jar with pickles.But Gina loved food so much, she didn\\'t even noticed.Ned was a very envious person.He liked to feel more important than anyone else.But the new boy was too popular for Ned\\'s liking.He tried to fight the new boy, but lost.Now Ned knows not to let envy get the better of him.Jimmy had never played football before.He was finally old enough for flag football.He got out on the field, excited to play.He threw the ball to his friend running down the field.He caught it and scored a touchdown.Sarah took the watermelon out of the refrigerator.She got a knife and began to cut it into slices.The knife slipped and cut her finger.She immediately rinsed off the cut, and saw it wasn\\'t too deep.She got a band-aid, and continued cutting the watermelon.Joanne loves country music.She listens to country music during her commute every day.She hears on the radio that her favorite artist is coming to town.Joanne buys tickets to her favorite country artist\\'s concert.Joanne attends the concert and has a fun time.The boys were pumped.They were finally going to go see the band in concert.It had been advertised for a while and the day was finally here.They loaded up in the car and took off to the venue.The band played all night and they loved every minute of it.Cara had been faithful to her boyfriend tommy.They had been together for 2 years.Never once did they cheat on each other.One night Cara met up with an ex boyfriend Richard.She still had feelings for him and was all alone with Him.Theo was a very nervous child with a long-time fear of heights.One hot summer day, his friends invited him to a water park.His crush, Lucy, was there and she loved slides, so Theo had an idea.Theo asked her to join him on a two-person toboggan, and she accepted!Together, they rode the slide, with Theo screaming, but happy as ever!Shane worked as an accountant for a large company.Shane felt that he was not being paid enough for his work.Shane decided to start altering the accounts at work and hiding money.Shane took the money he hid from work.Shane stole over 4 million dollars from his employer.Jill was invited out to dinner with her friends from work.Jill accidentally spilled juice on her dress right before she left.She had to go to the store and buy a new dress.She quickly picked out a nice black dress for the dinner.Luckily she was able to still make it in time for the meal.Mary had an apple tree in her garden.The tree was full of apples.Mary climbed up the tree to pick the apples.She fell down from the tree.Mary broke her leg when she fell.Brownie was a happy dog, a pekingese who looked like a mop.One day, Brownie started going blind.Brownie walked into a wall, hurting his nose.He was never able to smell food again.Brownie still ate healthy every day, even with a broken nose.I fell one day and hurt my leg seriously.My mom immediately took me to the emergency room.I was in tears the whole time.The doctor took a look and said it was broken.After an x-ray to confirm it, they wrapped it in a cast.Amanda got home late from work.She opened her front door.She walked into the dark house.She turned on the lights.Suddenly a bunch of people hollered \"\"SURPRISE\"\" and threw confetti.Fred is painting his room red.After stepping down from the ladder he knocks over the paint bucket.He spills paint all over his room.Fred quickly tries to clean the spill up.After it is clean, he resumes painting.Tim is an avid coffee drinker.When he woke up this morning, his coffee maker was broken.He remembered he had a starbucks gift card.Tim waited in the drive-thru line for 15 minutes.He did not enjoy the coffee that he had bought.Diane has always been scared to drive since she was little.Her mom used to yell at her and make her feel bad about driving.Diane started taking driving classes to overcome her fear.She was nervous at first, but stuck with the classes.Six months later, Diane is driving everywhere she goes.Bob was on the phone all day.It was raining something fierce when he finally wasn\\'t.Bob was sad he hadn\\'t been able to go for his daily walk.When it stopped raining he saw there was a full moon.Bob went for his walk at midnight and was happy.The artist picked up the microphone.His set was about to begin and he mentally prepared.Finally, it was time to enter the stage and he did.The curtains rose revealing an active and loud audience.The artist began his set amidst excited cheers.Niels had a science test in the morning.He stayed up late playing video games.He forgot to study for the test!He tried his best, but to no avail.Niels failed his test.Anna wanted a flag for her lawn.She went to the flag store.There, she chose a floral print flag.She paid for it and brought it home.There, she set it on her lawn.Andy has been mowing lawns in his town since he was five.Recently, Andy wanted to become a bit more financially independent.Andy decided that he should open his own landscaping business.Andy figured this would help him to achieve his financial goal.Andy was excited to announce the opening of his landscaping business.Lola had made a huge mess her in room.Her mom yelled that she needed to clean it up immediately.It took her four hours but it was finally clean.She invited friends over that evening.They made it just as messy again!When Clint first began working, he wanted to be a storm chaser.He decked out his truck, and followed storms with his camera.After years of near misses, he got some really great tornado shots.His most popular images were of lightning, and he got an amazing view.He ended up quitting storm chasing to be a photographer.I always hated jam on bread.Everyone told me to try it.I always refused.One day I finally tried it.It was the best taste in the world.Hank bought a new dog.He took it home and started to train it.Within a day, the dog knew five tricks!It was the smartest dog Hank had ever seen.He bragged to all of his friends about his new dog.Timmy loves new projects, so he searched online for something new.He found a website showing how to put together aquarium landscapes.Timmy bought an aquarium kit and decor to put together his own tank.The project was harder than Timmy expected.The fish tank is only half put together in his living room now.Danielle stayed up late to bake a cake.She let it cool and then started to decorate it.It was a beautiful cake with great decorations.She brought the cake to an office party.She was so proud when her coworkers complimented her work.Ludo looked on the cable guide for a movie to watch.He found a movie that he was excited about.When he tried to start it he realized he needed a subscription.He bought the subscription.Ludo watched a lot of movies on the subscription during the next week.When I found Charlie Horse under my bed, his leg was messed up.Upon closer look, the stuffing was starting to come out.The seams had ruptured.When I looked at my dog, he was also under the bed.He looked very guilty, leading me to believe he caused the damage.Stuart had always liked fancy clothes.He dreamed of owning a bowtie for special occasions.One day he bought a beautiful yellow bowtie.He wore it for a special picnic with friends.Stuart was happy to have fancy clothes for the occasion.Meredith was a very curious five year old.She pretended to drive her dad\\'s truck.She accidentally hit the emergency brake.The truck rolled back into the street.It stayed in the street until her dad came home with the keys!The family took a trip to Amish Country.They shopped at lots of interesting stores.They learned a lot about their history.At the end of their tour, they bought a beautiful table.It was an enjoyable trip!Morgan\\'s parents were very strict.They made very strict rules to their son Morgan.Morgan was fed up with this nonsense.So Morgan ran away but was found.His parents learned to be more lax with Morgan.Sarah is having a birthday party this month.She wanted to have a circus in her backyard.Sarah\\'s mother told her that a clown would be nice to have.Sarah hated clowns because they were scary.During her birthday, the clown made her feel happy many times.Susan was very excited to take a dolphin cruise while in Florida.She bought the tickets in advance.She boarded the boat with a life jacket.On the water, she felt extremely sea sick.She came back to land feeling disappointed at not seeing an dolphins.Robert was bored with life, he need some entertainment.He decided to pack up and go on a cross country adventure.He invited his buddy Bryan and they left town.They traveled all the way from PA to CA.It was quite an eventful journey that had together.On July 10th, we went to Joe C\\'s birthday party.He was turning 99 on July 13th.His daughter, a musician, had several friends sing and play music.Other guests recited poetry to Joe, an amateur poet.Despite his age, Joe stayed at the party well past midnight.Allie was nervous for the first day of school.She was afraid she would make no friends.Luckily when she got there, some nice girls came up to her.The girls complemented Allie and asked her to play.Allie was happy to make some friends.Jenny was nervous about her dance recital.She practiced for two hours before she had to be on stage.After her performance, she received a standing ovation.Her dance instructor told her afterwards that she had the best dance.Jenny was so happy that she signed up for the next recital.In college, Jeremy double majored in math and physics.After graduation, he realized he had no idea what he wanted to do.He finally decided to join the National Guard.He went away to boot camp and officer training camp.Now he has a career he loves as a military officer.Bob was driving to see a house in Buena Vista.He got stuck in a long line of cars.There was a road construction crew only letting one lane go at a time.When it was Bob\\'s lane\\'s turn, he floored the accelerator.He ran over one of the workers and was arrested.Chris was feeling drowsy for some reason one day.He hurriedly finished the rest of his chores.Afterwards, he undressed and laid in his bed.He set his alarm for two hours later and fell asleep.But 20 minutes into his nap, the doorbell rang and woke him up.Barry decided that he wanted to audition for the part of Hamlet.Barry practiced his lines day in and day out.Barry was anxious but prepared for his audition for Hamlet.After the audition, Barry waited anxiously to hear from the judges.Barry was elated to hear that he got the part of Hamlet in the play.Ann\\'s cat Cora was sprayed by a skunk.Ann knew she would have to bathe Cora.Sure enough, Cora resisted!But Ann managed to scrub her clean.Soon Cora was dry and sweet-smelling once again!Lisa wants to start a new business.She decides to open a restaurant.She scouts the perfect location.She opened her restaurant in the best neighborhood in town.Her restaurant is very busy and has reservations full nightly.Jenn and Bill fell in love and got married.A few months later, Jenn found out that she was pregnant.Bill was very excited and couldn\\'t wait to be a father.They found out they were having a baby boy.Once the baby was born they named him Theodore.Tom heard a strange noise in the attic.He went upstairs to see what it was.He saw a glowing, transparent person.They made a spooky gesture towards him.He ran away to tell his wife he\\'d seen a ghost.Jake was all out of bread.He really wanted a peanut butter and jelly sandwich.Jake remembered he\\'d frozen a loaf in the freezer!He toasted two pieces of the frozen bread and made a sandwich.It turned out to be just as delicious as if it were fresh!I visited the hospital this morning.As soon as I was registered, I took the elevator to the fourth floor.The nurse took my vitals and started my treatment.Before leaving, my child life specialist told me about a special event.I ended up leaving 2 hours later after attending the event.Billy was headed down the road.He heard a noise in his car.He ignored it and went faster.He decided to trace another driver on the highway.Billy totally blew his engine and was left on the side of the road.Glenda was invited to a spa party.She arrived and was surprised to see Botox being done.She felt uncomfortable and left.The next week, she saw all the party attendees.Their faces were frozen and strange looking.The school\\'s marching band practiced for the game all week.They put in extra hours every night to perfect their routine.The day of the big game finally arrived!The whole band piled onto the bus, giddy with excitement.The bus spiraled off the road, killing everyone on it.Mario wanted to play tennis professionally.He asked his father to help him.His father thought it was a waste of time however.His brother believed in him and taught him.As a result, Mario actually became pretty good.James was playing video games on his computer.The game on his computer was running very slow.He realized it was due to his aging computer.James bought a brand new gaming computer from Best Buy.James was able to play his video game without any lag afterwards.My sister in law\\'s granddaughter lives in Maine.She has four children by three different men.Three weeks ago, Maine social services took custody of the children.The children, 11 to 2, had been left alone.My sister in law has taken temporary custody of the children.John and Jane went out to dinner.They sat at the table and placed their order.The waiter brought them their food.John accidentally knocked over his plate!John had to clean up all of the food that he spilled.The chef was preparing for a job interview.He practiced making his amazing appetizers.He served some to the owners of the restaurant.They loved them!The chef was hired immediately.Larry sat on the porch.He yelled to his friend as he drove by.His friend sat on the porch with Larry.Larry\\'s friend told him a great story.The story inspired Larry to mow the lawn.Dessie wanted to meet a new mate.She went through many dating sites to no avail.Finally, she gave up and went to the library.Surprisingly, she met a handsome guy there and they exchanged numbers.After a few weeks, they were together in a relationship.Mary sliced the purple eggplant.Then she breaded each slice carefully before frying them.She layered each breaded slice into her casserole dish.She poured homemade marinara sauce in the dish.Finally, she sprinkled parmesan cheese on top and baked it.Sophia was a picky eater.She only liked certain foods.Her mother decided to introduce new foods gradually.Initially, Sophia would not eat the new food.Eventually, she got used to trying different types of foods.Jim applied to college in another state.He had never lived by himself before.Jim\\'s parents promised they\\'d help him move.He thought his worries were over then.Jim found out the university was a shill.The jenkins family were worried sick.Their dog Bandit had been missing for weeks.They had all but lost hope at ever finding him again.They posted flyers all throughout the town.Until one day their phone rang and someone said they had found Bandit!A little girl asked for a pet for her birthday.She did not know what kind of pet she wanted.Her parents surprised her and bought her a puppy.They gave her the puppy after her other gifts.The girl was very happy with her new pet.There was a war in the kingdom.A rival kingdom wanted to take the king\\'s land.The king sent many troops into the war.The king and his people rose above the evil forces.The king and his army was victorious in their defense.The family made it their goal to go to twenty national parks.They drove around all summer.They visited about half of their goal that year.They plan on trying again next summer.They made a lot of memories doing it.The snow was piling up outside.The weatherman said it would continue all night.The kids were hoping they would get a snowday.The next morning, there were huge drifts in the street.School was cancelled for the day!Thomas bought a train set.His father helped him set it up in the garage.They ran the train around the track for a few minutes.Thomas thought that it was pretty boring.He gave the train set to his neighbor the next day.A few years ago, me and some friends decided to play video games.We brought over all our consoles to my friends house.We set them up in the living room together.We played video games all night that night.I had a great time playing video games with my friends.Lawrence was going to get married.His life was going great.Just one thing was missing.He needed a best man.He found his long lost best friend through Facebook and asked him.James just turned sixteen years old.His dad told him that he needs to get a job.James decides to go to Walmart to fill out an application.He fills out the application and gets the job.James now has a job.Richard was accused of assaulting a woman.He denied it.He took a polygraph test.He passed with flying colors.The charges were soon dropped.Molly had been working at the same job for years.She worked hard and was well respected.Molly wanted a raise but was anxious about asking for one.One day, she gathered the courage to ask her boss for a raise.She got her raise, and was happy and self-assured.We had a new concierge for the 3 to 11 pm shift.Joe was quiet and looked tough.He took a lot of breaks, and was not at his desk often.He also did not like to record incoming deliveries.After receiving a lot of complaints, the management fired Joe.Angelique decided to throw a baby shower for expected baby girl.She bought invitations and invited all of her friends.She got decorations, and ordered a cake for the event.She bought a new dress to wear to the shower.On the day of the shower, her friends and family gave her many gifts.Silvia had to give a big speech at work.She asked her friend Albert to listen to it and give his opinion.Albert listened to the speech but wasn\\'t convinced it was good.Despite his own dislike for the speech, he complimented Silvia.Silvia made her speech and looked like a fool without knowing why.Tony made a huge batch of waffles.He called his family to the breakfast table.They all gobbled them up.They told Tony to make waffles every Saturday morning.He was happy to make it a tradition!Determined to drink more water, I carried a water bottle everywhere.One thing that I have omitted is making the sure the bottle is closed.One time, I put the bottle of water in my bag with the cap off.I soon discovered the water had soaked my books completely.Fortunately, my books were still readable after that event.Kari decided she wanted to be a pharmacist.She took an internship at a local pharmacy.On the third day, she was so bored that she just walked out.She decided it was not the occupation for her.Next, she considered being a dancer.Bob\\'s foot crashed through the rotted board.He looked with dismay and noticed they were all rotting.Bob called a handyman for an estimate to replace it all.The handyman quoted him a very reasonable amount to do the job.Bob agreed to the price and went inside to prop his foot up.Roberto moved to New York City to be with his girlfriend of 4 years.He moved in with her and her family.Her dad told him if he didn\\'t find a job he would have to leave.He interviewed for several positions but didn\\'t get any of them.With no place to live, he had to move back to California.James wanted to buy his wife a nice anniversary gift.He asked his boss if he could work some overtime to pay for it.James ended up working six days a week for three weeks straight.He was very happy when he saw his paycheck with the overtime on it.James went to the store and bought his wife a diamond necklace.The couple dined at a new steakhouse.THey each got huge cuts of meat.THey couldn\\'t finish their steaks.They were happy until they saw the bill.It had cost $400!Beth and her family went to the amusement park.Beth was nervous to ride the big roller coaster.She was afraid she would get sick from the ride.Beth faced her fears and rode the coaster.It was so much fun, she decided to come back the next day.The parents were planning a trip.They wanted to take their kids someplace exotic.They couldn\\'t agree on a spot.They flipped a coin and the wife won.They\\'d be going to Italy!Maureen had always wanted to learn how to play golf.However, she was worried it would be hard.She practiced golf every day for a year.Finally she was a golf expert.Maureen was happy she had learned how to play golf.Ted is driving his car down the road.He starts to feel a bad rumble.He pulls over to check it out.There was a nail in his tire.Ted couldn\\'t believe his luck as he called triple a.My friend Jess texted me some photos of Denver.She was visiting from NH and was at Union Station.She knew I loved trains and sent me some photos.I thanked her very much and asked how she was doing.She said she loved being in Denver.When I was young I went to a slumber party at my friend Tim\\'s house.There was a giant thunderstorm that night.Tim had a fear of lightning.Every time the sky flashed he hid under his bed.I never stayed at Tim\\'s again.Tim and Katie were enjoying their beach vacation.On their way back to the hotel from the beach, Katie spotted Scoops.Scoops was an ice cream shop in a building shaped like a cone.Katie and Tim went in for ice cream sundaes.They were the most delicious ice cream sundaes they ever had.Shayla was asked to be a bridesmaid at her friend\\'s wedding.Shayla was excited but also nervous because she was fat.She bought a goal dress and worked hard to lose weight.The day of the wedding came.Shayla was proud that she could finally fit into the dress.It had all come down to this.Ken was on the last hole of the course.The ball was 10 feet from the cup and he needed the putt to win.He set up and practiced his swing.He hit the putt and sunk it!My coworker\\'s daughter started high school in September.She was a good soccer player in middle school.She went to try out for junior varsity soccer.When she got to the field she froze and did not try.My coworker said his daughter was just too afraid.Ross wanted to try something new.He wanted to take a new job in Vietnam.Ross was scared to get to Vietnam because he was terrified to fly.Ross attended therapy for 2 months before he felt ready to fly.Ross made it through the entire flight with no anxiety.Melissa drove to the local computer shop to see what they had.As she walked in the door, the clerk on staff greeted her.They walked around while Melissa asked a number of questions.In about 30 minutes, she decided on a mid-range desktop.She paid the cashier and left the store with the computer in hand.Julia and her boyfriend Hank were going to the races.Neither of them had been to a horse race before.They day came and they went to the race.They loved all the pomp and circumstance of the races.It was a wonderful time that they would not forget soon.My parents planted a maple tree on the day that I was born.Every time they saw the tree growing taller, they thought of me.By the time I left for college, the tree was taller than their house.But the maple tree was rotted from disease.My parents cried as they cut their beloved tree down.Emilia was walking by the pond.She thought she was stepping over a big stick.The stick moved!It was a giant snake.She ran away screaming.Ann planted a tree when she was very young.As she aged, the tree did, too.When she graduated from high school, the tree was twenty feet tall.Ann moved away a long time ago.When she visited last week, she drove by again to see how tall it is.Jude thought he was a great guitar player.He took lessons from his friend Ryan.Ryan told him he needed to practice much more to be great.Jude was determined to practice every spare second he had.A few weeks later, Ryan loved how Jude played!Dan recently had his second interview with a law firm.Dan had been waiting for a week to hear about being hired.As Dan was about to start his job search again, Dan\\'s phone rang.Dan answered the phone, and got the news that he had got the job!Dan was so elated that he would be the new lawyer at the firm.Someone kept taking Kayla\\'s work lunch from the office fridge.Kayla wanted to find a way to stop the lunch thief.She decided to make the most disgusting lunch she could.The man that stole her lunch had to go home sick!Nobody touched Kayla\\'s lunch ever again.John realizes that he hasn\\'t eaten anything all morning.He is beginning to feel hungry.John decides to make himself a sandwich to eat.He fills the sandwich with meat and vegetables.John is glad that he got something to eat this morning.Cathy recently graduated from beauty school.One day on her walk, Cathy saw a help wanted sign at a hair salon.Cathy decided to fill out an application for the job.A week later, Cathy was called for an interview at the salon.Cathy did so well at the interview, that they hired her on the spot.The cats were yowling at the door to be let out.When the door opened and they saw the rain, they stopped dead.They looked out at the rain falling in apparent disgust.They quickly backed away from the door and the rain.Curling up in a ball, they slept until the rain ended.The kids all gathered to play Pokemon Go.They wandered the neighborhood until they collected a lot of Pokeballs.When they got home, their parents were mad.They didn\\'t know where they\\'d gone!The kids were grounded from their phones.Bailey had been an avid roller derby fan.She longed for the day she could be on a team.Recently, Bailey saw a flyer for roller derby team auditions.Bailey decided she would sign up for the team auditions.Bailey was excited to audition for the roller derby team.Tommy noticed a pipe was leaking a little bit.He went upstairs that night and took a shower.When he came down later, he noticed a water spot on the ceiling.He didn\\'t know what to do, so he ignored it.The next day, the ceiling came crashing down!Maria went inside and put her takeaway on the kitchen table.Maria\\'s boyfriend saw Maria\\'s takeaway and asked what she bought.Maria said that she went to the new Nepalese restaurant and got momo.Maria\\'s boyfriend asked her what momo are.Maria told him they\\'re like Chinese dumplings, but a little different.Ben wanted a new coat for winter.He couldn\\'t make up his mind what color he wanted.Until one day walking down the street with his friend.He saw it the red coat of his dreams.Ben knew he had to have it and rushed into the store to buy it.Lawrence always wanted to be an astronaut.He trained and studied hard.He passed the astronaut test on the first try.He was overjoyed to learn that his first mission would be to the moon.Lawrence flew to the moon and back on the spaceship.Mario had perfected his pasta recipe.He wouldn\\'t tell anyone what made it so special.One day, a girl peeked into the kitchen and saw him using cinnamon.She told everyone in town.Soon, they could all make pasta just like Mario!Mark did not want to go to work today.Yesterday, Mark was dumped by his girlfriend.Mark was heartbroken, because he was going to propose.Mark attempted to call her, but she would not answer.Mark felt so sad, because he is now a single man.Matt thought he was smarter than any of the other students.He decided to take on a very difficult programming exercise.Everyone in the class thought he would be able to solve it right away.After two nights he realized he had no idea what he was doing.Matt dropped the class rather than admit to failure.Jeff was going to his company picnic.His car was making a strange noise.He ignored it and kept driving.A mile from the picnic Jeff\\'s car just stopped.He got outside and popped the hood and his engine was toast.The neighborhood garage sale was approaching.Bonnie worked to price all the things she was selling.She sat them out of tables in her driveway.Soon, hoards of shoppers appeared on the block.She sold everything she had out!Barry always dreamed of going to Jamaica for vacation.Barry recently saw an affordable vacation package to Jamaica.Barry decided to purchase the vacation package the next day.However, when Barry went to purchase the package, they were sold out.Barry was so disappointed that he missed out on the vacation package.Danny had been very well behaved this week.His mother decided he had deserved a prize.She took him to the local toy store and allowed him to get one thing.Danny chose to get a dinosaur who roared loudly.They went home and Danny played with his new toy all night.Cindy just left the house to go for a run.She was on mile two when it started to get dark.She did not think remember any rain in the forecast so she kept going.By mile four, the bottom had fallen out.When Cindy got home she was completely soaked.Ross was moving across town.He had a huge couch that he needed to move.He asked five friends to help him.They all carried a side and lugged it down the stairs.It took them an hour to get it in the truck!John wanted the latest new video game.He didn\\'t have enough money.He decided to get a job at the grocery store.His first paycheck gave him enough money to get the game!John was very happy to get to play his new game.On May 18th, my wife and I had dinner with 3 of my former coworkers.I am retired but still stay in touch.We met at Salvatore\\'s, an Italian restaurant in downtown Boston.We had no reservations and had to sit at the bar.We had a great time catching up, and vowed to meet soon.Tom met his ex-boyfriend online when he was 16.He moved to Ohio to live with him.Tom went to college and made lots of friends.They broke up after 5 years together.Tom stayed in Ohio because of the life he had built there.Sarah really likes to take care of succulents.She thinks they\\'re adorable little plants.While shopping, she found a neglected little succulent.She decided to buy the plant and bring it home to nurse it.Now the plant is doing really well and has several young sprouts.Rhonda was already late when heading to the airport for a flight.On the way, an accident caused heavy traffic.The traffic let up but then she came across a parade event.Rhonda thought the world was against her but was determined.She made it to the gate right as they were about to close the door.I remember when I started working at my current job.The first day was very scary.I had never worked at a place like this before.After a few weeks I got used to this sort of work.Now, I love working here and I don\\'t want to leave.Kay met Chad online.Kay and chad grew close.Kay decided to move across the country to live with Chad.Kay rented a Uhaul and drove across the country.Kay now happily lives with Chad.Bob took his family to their vacation house.They arrived and went to the beach.At the beach, Bob got a nasty sunburn.His wife scolded him for not wearing sunscreen.The burn was so bad, it ruined his vacation.Miley was on a road trip.She was having a great time driving across the country.Suddenly she heard a loud ticking noise.She pulled over to see what was wrong.Miley called her dad for help with her overheating car.Every evening, Jackie ate cookies after dinner.Her favorite cookies were chocolate chip.One day, she accidentally bought cookies with raisins.She didn\\'t enjoy the taste of those cookies at all.Jackie decided to give the raisin cookies to her neighbors.Ana liked to chew on the cap of her pen.When she went to the dentist he made a surprised exclamation.He found blue plastic coating the tops of her teeth!The dentist cleaned Ana\\'s teeth and got all the plastic off them.He then told her she really needed to stop chewing on her pens.I confessed to my friend that I loved her.When she said that she didn\\'t have the same feelings, I was mad.I ended up yelling her and ran away.Ironically, she gave me a small hug when we saw each other again.I isolated her from the crowd and apologized to her.The committee wanted to raise $1000 for the new playground balls.They had a bake sale.At the end of the day, they counted all their money.They had reached their goal!They went and bought the new balls the next day.I got a new kitten.The kitten was bad.It ate my shoes.I then trained it to be good.It was a good kitten from then on.Billy never brushed his teeth.He also ate lots of candy.Billy ended up with cavities.The dentist gave Billy lots of fillings.Billy brushes his teeth regularly now.Jill was outside playing.All of a sudden she was stung by a bee.Her arm became very swollen and red.Jill had to go to the hospital.She was having an allergic reaction to the bee sting.Jane couldn\\'t understand why she was in time out.She looked around her room where all the toys were still on the floor.Her mom wanted her to pick them up before dinner.Jane though had just played with the toys.Jane decided to pick up her toys and then apologized to her mom.I have had long hair most of my life.I\\'ve been getting a bit annoyed with it lately as it is boring now.I spent months wavering on whether to cut it.In a sudden moment of determination I lopped off my pony tail.I was worried I would regret it, but it\\'s great!The nerd woke up every morning excited for school.The nerd always made sure to arrive to his classes on time.Every class the nerd was made fun of for trying to hard in school.The nerd reported the bullies to the principal.The principal gave the bullies detention and the nerd was happy.My ex coworker Ann had a hearing last week.Ann was having an affair with a man.The man\\'s wife found out and left threatening voice mails.Ann filed a complaint in court.The case was dismissed after the wife promised to stop threatening.Two weeks ago we went to Friendly\\'s for breakfast.The prices were half off during weekdays.There were many regulars at the restaurant.I had an omelet and my wife had bacon and eggs.We were lukewarm about the food, but loved the prices.Desmond loved to play basketball.He wanted to be the very best at the game.He worked day and night to be just like his idol.The school was holding try outs to make the team.Desmond took the coach\\'s breath away and is now a star for the team.Gary was shopping at a Halloween store.He found a terrifying mask.He bought it and put it on when he pulled into his driveway.He approached the house and tapped on the window.His mother screamed and fainted when she saw him!David lost both of his legs in the war and was in a wheelchair.His fiancee left him and many of his friends stopped seeing him.He was feeling very sorry for himself and was depressed.He began working at the VA hospital and met people worse off than him.After making many new friends there, David also met his new wife!Frank had always wanted to exercise more.A friend recommended he try doing handstands.At first Frank found it difficult, but eventually he became good.Now he does handstands every day.Frank is glad he exercises more now.Jerry was a hard working dancer.She practiced and rehearsed everyday.Her dream was to go to Juilliard.She would make it someday she knew.She audition several times and was invited to the school.Arden laid in bed while his wife worked on her crowdsourcing website.Arden was getting extremely bored and he longed for her attention.He tried to watch television to pass the time while she finished work.He then rolled over to his wife and started talking to her.His wife realized he wanted her and stopped working to be with him.Jessie\\'s birthday was coming up the following Monday.She told all her coworkers about it as she headed out.Jessie made a point of telling everyone none of them were invited.She thought they\\'d understand she was only joking.Jessie didn\\'t like her boss\\'s early present of a pink slip.Two weeks ago my wife noticed tiny flies near our window.The flies were outside, and she paid them no mind.Later that night she found the flies on the bedroom ceiling.We sprayed the bugs and shut the window.The next day we had the screen replaced.Kate\\'s mom dropped her off at Jen\\'s house.Kate and Jen were having a sleeping over.They played Checkers where Jen won.They decided to watch movies and eat popcorn.During one of the movies both Jen and Kate fell asleep.Ally had a big piano recital coming up.She was very nervous that she would make a mistake.Ally practiced for hours every day leading up to the recital.When Ally finally played her piece, she didn\\'t miss a single note!Ally took a bow during the audience\\'s applause.Callie bought an old Polaroid camera.She took it to a family picnic.Then she snapped a few fun photos.But the camera did not work!Callie was so disappointed!The family arrived at the airport with plenty of time.They waited patiently for their plane.It never arrived.The weather had delayed the flight.They missed their whole vacation because of it!Last night I dreamed about my friends in NH.I dreamed my friend\\'s daughter broke up with her boyfriend.As a result her grades in college were falling.Her parents were furious and demanded she get her grades up.I woke up and realized it was all a bad dream.The surgeon was handed the tool.Nervously, she palmed the scalpel.The assistants watched her, anticipation in their faces.The surgeon breathed out and audible sigh, calming herself.She began to operate, all nervousness fading away.The mountain loomed on the horizon.They had their gear all packed, it was time to go.It was a direct vertical ascent, almost 1000 feet straight up.They began slowly making their way up.The summit would take days, but they knew it would be worth it.I stood at the ramp and looked down the mountain.My heart began racing.The instructor said some encouraging words to me.I calmed down, and started down the ramp.By the time I got to the bottom, I was ready to go again.The model worked very hard to get ready for the fashion show.She only ate healthy food.She spent hours at the gym.When it was time, she walked down the runway proudly.All of the designers wanted her in their show.Kelly just moved to a new town.She was quite nervous to move there.She was worried she would not make any friends.However to her dismay as she walked in the school she made some.Everything seemed automatically better.The Vikings basketball team always has a halftime contest.John was picked to try and make a half court shot.He grabbed a basketball and threw it as hard as he could.He made the shot!John won one hundred dollars for making the shot.I was very worried about studying abroad in Mexico.I spoke very good Spanish, but I wasn\\'t sure if it would be enough.I was nervous the entire plane ride to Mexico City.When I got there, my host family greeted me with open arms.They told me not to worry because I spoke great Spanish.Bobby always wanted a drone he could fly around his yard.Bobby dropped hints to his parents about the drone.Bobby wrote a letter to Santa about the drone.He finally awoke on Christmas morning and unwrapped a box.It was a huge state of the art drone!Greg is playing in a basketball game.There are only a few ticks on the clock left.The ball is passed to Greg.He puts up the shot and it goes in!The crowd screams and Greg is a local hero!Justin and Melanie were moving in together.Melanie adored cats and asked when they could adopt one.Justin informed her he was badly allergic to cat fur.Melanie was heartbroken and really wanted a feline companion.She found a hairless cat and brought it home, and Justin was fine.Bill was about to again step on stage at the underground club.He always plays the saxophone here, but today is father is here.Bill\\'s father is a very talented but retired and judging saxophonist.Bill nervously steps up and plays his first song.Bill\\'s father nods his approval and Bill plays many more songs.Johnny decided he needed to get out of the house.He went for a short fishing trip.Johnny caught a huge salmon when fishing.He was very proud.Johnny was glad he left the house.Today I went to the beach.I was feeling great at first, however then I started getting sick.My head was throbbing and I needed to leave.When I got home I took Motrin.Thankfully when I took it, I was cured.Anita had a craving for Mcdonald\\'s.She asked her husband to go grab some food.Her husband wanted to eat Burger King instead.They flipped a coin to decide what to eat.Anita won the coin toss and her husband got Mcdonald\\'s.Yesterday I went to a friend\\'s house to play Scrabble.We have been Scrabble buddies for many years.We played three games, and the competition was fierce.My friend won two games and I was very disappointed.Luckily, my friend made a peach pie and offered it as consolation!Thomas had never been hunting before.Dennis said he would be happy to take home.They both went to the sporting good store and bought supplies.After the finished shopping they both went hunting.Thomas shot his first deer and enjoyed his hunting trip.Matt rubbed his eyes.He looked over at Cherise who hadn\\'t blinked in five minutes.He gave her a warning about too much video games.She shrugged and continued playing.Finally, exasperated, Matt grabbed the controller from her hand.Joey wanted a new gaming system.He asked his parents but they said No.Joey decided to get a job to get the console.Joey applied for a local fast food restaurant.Joey aced his interview and got the job.Lorrie was driving down the road.She heard a noise coming from her truck.She got out to look at it.It was smoking everywhere.She was stranded for hours before help came.Mona went to the library to borrow a book.When she arrived, the library was closed.Mona wasn\\'t happy about this and went to a bookstore.She found the book she wanted very fast and paid for it.She went back home and read the book all night.Nic and his friends went to a party.There were a lot of people and they got separated.Nic didn\\'t like to be in a crowd alone and started panicking.He hid in a closet and found a girl who was also afraid.They started talking about their fears and became fast friends.The Grahams are one of my favorite families.They go to Florida every summer to visit their elderly family members.The grandma loves to play scrabble when they get there, late at night.She always bakes a lemon meringue pie for them.They really enjoy their long visits during the summer.Barry was given a present for his birthday.The problem is that his birthday is not for another couple of weeks.Barry longed to see the inside of his birthday present.He shook the present many times to try to guess what was inside.Barry finally peeked inside the present one day and saw a remote car!Martin enjoyed playing the guitar.He had always wanted to be in a band.One day he met a new friend who played the drums.Martin and his friend formed their own band.They had fun playing their music at parties.Anna showed up to babysit the kids.She brought books and crafts.She thought they would all have a fun time.The kids threw things and tied her to a chair.She never babysat those kids again!Brandon needed to buy a new laptop for school.He went to the store and found a perfect laptop.The laptop was not in his price range.The salesman said Brandon qualified for six month financing.Brandon decided to take the offer and went home with his laptop.Barry was fishing at a small lake near his house.Barry wanted to catch a big bass for dinner tonight.Barry felt a tug on his line, and immediately began to reel it in.Barry was excited to see the size of the fish he had caught.However, to Barry\\'s surprise, the fish was a very, small baby fish.The girl primped in the mirror.She fixed her hair and makeup.When she was finished, she looked beautiful.Her date was stunned when he saw her.He couldn\\'t believe such a beautiful girl agreed to date him!A few years back, my brother went mountain climbing in Utah.He climbed a very tall structure over many hours.When he arrived on top, he realized he had no more water.He had to climb down while being very thirsty.The first thing he did when he reached town was to drink water.Hoda was training for the triathlon.She was a bad swimmer, so it was a lot of work.After many months of training, she was finally able to finish.Her time wasn\\'t very good, but it didn\\'t matter.She was just happy to be finished!My sister in law\\'s washer died this spring.Her husband is very frugal, and did not want to buy a new unit.After months of lobbying, he gave in this summer.He nearly fainted when he found out the washer cost $850.His wife is very happy, however.Ellie had just completed her first year of ballet classes.Ellie loved ballet and was very happy.On the day of her recital, Ellie was so excited.She wore a beautiful pink dress with a tutu and a bun in her hair.Ellie shined on stage and did a fantastic job,the audience cheered!Miles noticed that his breath smelled bad.He decided to get some gum to chew.Miles bought a pack of strawberry flavored gum.He began to chew one stick of the gum.Soon he noticed that his breath did not smell bad any longer.Lulu is terrified of needles.This morning, she had to go to the vet to get a shot.When the technician walked in, Lulu saw the needle.She got so scared, she stood up and let out what sounded like a scream.The tech was very careful, and did not hurt her.The couple was registering for wedding gifts.They couldn\\'t agree on what dishes they wanted.The bride got really mad and stormed off.THe groom cancelled the wedding.It was the first wedding that had ever been called off in Pier 1.Last night, I didn\\'t go to sleep until 1 AM.At 4 AM, my cat woke me up by biting my toes.I was very annoyed with him because I had to wake up at 5.I went to a different room where he couldn\\'t enter.I slept blissfully until my alarm went off an hour later.Sam invited her whole class to her party.The morning of the party, she put together the goodie bags.She was so excited to see everyone!No one showed up, though.Sam felt embarrassed and sad.Tanner was known to overreact.When he got in his car he couldn\\'t find his wallet or sunglasses.He always left them in the same spot.He instantly starts panicking assuming someone broke in.His wife then stepped outside holding both, he left them in the house.Michael was walking on the busy street.He found a $20 bill on the floor and looked around him.People were going by, but no one stopped next to him.Michael asked around to see if anyone lost a bill.When no one answered, he put the bill in his wallet and continued on.Jim was going to make a bet.He was going to make it a big one.He decided he needed to take on a challenge.He bet all of his money on this race.The day of the race comes and Jim wins it all!Darnell was a great baseball player.He was always working hard and practicing.Darnell was his team\\'s catcher.Darnell was very good at his position.At the end of the season Darnell won mvp for his team.Amy\\'s mom told her to babysit her little brother Kyle.Amy was annoyed because she would rather go to the mall.Kyle asked Amy to play a game.The two ended up having a lot of fun together.Amy said that she would babysit Kyle any time.Trisha\\'s mom warned her not to spill anything on the hardwood floor.Trisha was careless and spilled some soda.She tried to mop it up but didn\\'t do a very thorough job.The floor was stained from being wet for a long time.This weekend, Trisha will be taught how to spot finish a wood floor.John went swimming.He was bit by a jellyfish.His leg swelled up.John went to the hospital.The swelling was taken care of.Robert was always nervous when talking with girls.Rob decided he wanted to ask Katie to the prom.Rob spent thirty minutes rehearsing his speech for Katie.Rob finally approached Katie, his heart in his throat.Rob asked her, and Katie said yes!Amanda was scared of the dark.She did not want to go to bed.She was sure that she saw shadows on the wall.Her father gave her a flashlight.She used the flashlight and went to bed.Ian became angry throughout the basketball team.None of his team wanted to pass the ball.In addition, his opponents were constantly blocking him.Ian took out his frustrating my knocking an opponent down.Since he injured the person, the coach removed him from the game.My friends and I went to a music festival.We got to see eighty different bands.The atmosphere was like a carnival.We danced until daybreak each day.By the end of the weekend, we were exhausted and happy.Joey\\'s mom called him for lunch.He kept playing his video game.About an hour later he want downstairs to a bowl of cold soup.He complained to his mother.She told him if he had come when she called it world be hot soup.My girlfriend loves to do yoga.She always tries to get me to do it.I finally gave in a tried even though I am not very flexible.']"
   ]
  },
  {
   "cell_type": "code",
   "execution_count": 2,
   "metadata": {},
   "outputs": [
    {
     "name": "stderr",
     "output_type": "stream",
     "text": [
      "Using TensorFlow backend.\n"
     ]
    }
   ],
   "source": [
    "import numpy\n",
    "from numpy import array\n",
    "from keras.preprocessing.text import Tokenizer\n",
    "from keras.utils import to_categorical\n",
    "from keras.preprocessing.sequence import pad_sequences\n",
    "from keras.models import Sequential\n",
    "from keras.layers import Dense\n",
    "from keras.layers import LSTM\n",
    "from keras.layers import Bidirectional\n",
    "from keras.layers import Embedding\n",
    "from keras.models import load_model\n",
    "import pickle"
   ]
  },
  {
   "cell_type": "code",
   "execution_count": 3,
   "metadata": {},
   "outputs": [],
   "source": [
    "#function for preparing text data into sequences for training \n",
    "def data_sequencing(data):   \n",
    "    # integer encode sequences of words\n",
    "    tokenizer = Tokenizer()\n",
    "    tokenizer.fit_on_texts([data])\n",
    "    with open('tokenizer.pkl', 'wb') as f: # Save the tokeniser by pickling it\n",
    "        pickle.dump(tokenizer, f)\n",
    "\n",
    "    encoded = tokenizer.texts_to_sequences([data])[0]\n",
    "    # retrieve vocabulary size\n",
    "    vocab_size = len(tokenizer.word_index) + 1\n",
    "    print('Vocabulary Size: %d' % vocab_size)\n",
    "    \n",
    "    # create line-based sequences\n",
    "    sequences = list()\n",
    "    rev_sequences = list()\n",
    "    for line in data.split('.'):\n",
    "        encoded = tokenizer.texts_to_sequences([line])[0]\n",
    "        rev_encoded = encoded[::-1]\n",
    "        for i in range(1, len(encoded)):\n",
    "            sequence = encoded[:i+1]\n",
    "            rev_sequence = rev_encoded[:i+1]\n",
    "            sequences.append(sequence)\n",
    "            rev_sequences.append(rev_sequence)\n",
    "    print('Total Sequences: %d' % len(sequences))\n",
    "    \n",
    "    \n",
    "    #find max sequence length \n",
    "    max_length = max([len(seq) for seq in sequences])\n",
    "    with open('max_length.pkl', 'wb') as f: # Save max_length by pickling it\n",
    "        pickle.dump(max_length, f)\n",
    "    print('Max Sequence Length: %d' % max_length)\n",
    "\n",
    "    # pad sequences and create the forward sequence\n",
    "    sequences = pad_sequences(sequences, maxlen=max_length, padding='pre')\n",
    "    # split into input and output elements\n",
    "    sequences = array(sequences)\n",
    "    X, y = sequences[:,:-1],sequences[:,-1]\n",
    "    \n",
    "    #pad sequences and create the reverse sequencing\n",
    "    rev_sequences = pad_sequences(rev_sequences, maxlen=max_length, padding='pre')\n",
    "    # split into input and output elements\n",
    "    rev_sequences = array(rev_sequences)\n",
    "    rev_X, rev_y = rev_sequences[:,:-1],rev_sequences[:,-1]\n",
    "\n",
    "    return X,y,rev_X,rev_y,max_length,vocab_size"
   ]
  },
  {
   "cell_type": "code",
   "execution_count": 5,
   "metadata": {},
   "outputs": [
    {
     "name": "stdout",
     "output_type": "stream",
     "text": [
      "Vocabulary Size: 3222\n",
      "Total Sequences: 17310\n",
      "Max Sequence Length: 35\n"
     ]
    }
   ],
   "source": [
    "X,y,rev_X,rev_y,max_length,vocab_size = data_sequencing(data[0])"
   ]
  },
  {
   "cell_type": "code",
   "execution_count": 8,
   "metadata": {},
   "outputs": [
    {
     "data": {
      "text/plain": [
       "(17310, 34)"
      ]
     },
     "execution_count": 8,
     "metadata": {},
     "output_type": "execute_result"
    }
   ],
   "source": [
    "X.shape"
   ]
  },
  {
   "cell_type": "code",
   "execution_count": 11,
   "metadata": {},
   "outputs": [
    {
     "data": {
      "text/plain": [
       "array([ 198,    5,   14, ...,   42,   28, 3221])"
      ]
     },
     "execution_count": 11,
     "metadata": {},
     "output_type": "execute_result"
    }
   ],
   "source": [
    "y"
   ]
  },
  {
   "cell_type": "code",
   "execution_count": null,
   "metadata": {},
   "outputs": [],
   "source": [
    "model = Sequential()\n",
    "model.add(Embedding(vocab_size, 64, input_length=max_length-1))\n",
    "model.add(Conv1D(filters=64, kernel_size=4, activation='relu'))\n",
    "model.add(MaxPooling1D(pool_size=2))\n",
    "model.add(Dropout(0.2))\n",
    "#model.add(LSTM(16, return_sequences=True, activation='relu'))\n",
    "#model.add(Flatten())\n",
    "model.add(Bidirectional(LSTM(32)))\n",
    "model.add(Dropout(0.3))\n",
    "model.add(BatchNormalization())\n",
    "model.add(Flatten())\n",
    "model.add(Dense(vocab_size, activation='softmax'))\n",
    "print(model.summary())"
   ]
  },
  {
   "cell_type": "code",
   "execution_count": null,
   "metadata": {},
   "outputs": [],
   "source": [
    "merged = Concatenate()([model_sent, model_rev_sent])#, model_tags, model_rev_tags])\n",
    "output = Dense(vocab_size, activation='softmax')(merged)\n",
    "\n",
    "#model_final = Model(inputs=[in_1D, in_2D], outputs=[output])"
   ]
  }
 ],
 "metadata": {
  "kernelspec": {
   "display_name": "Python 3",
   "language": "python",
   "name": "python3"
  },
  "language_info": {
   "codemirror_mode": {
    "name": "ipython",
    "version": 3
   },
   "file_extension": ".py",
   "mimetype": "text/x-python",
   "name": "python",
   "nbconvert_exporter": "python",
   "pygments_lexer": "ipython3",
   "version": "3.7.4"
  }
 },
 "nbformat": 4,
 "nbformat_minor": 4
}
